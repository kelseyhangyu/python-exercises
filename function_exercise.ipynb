{
 "cells": [
  {
   "cell_type": "markdown",
   "id": "f81901d0",
   "metadata": {},
   "source": [
    "# Notes"
   ]
  },
  {
   "cell_type": "code",
   "execution_count": null,
   "id": "96aa6358",
   "metadata": {},
   "outputs": [],
   "source": [
    "max([4, 2, 3, 1])\n",
    "maximum_number = max([4, 2, 3, 1])\n",
    "print(maximum_number)\n"
   ]
  },
  {
   "cell_type": "code",
   "execution_count": null,
   "id": "1f9b3555",
   "metadata": {},
   "outputs": [],
   "source": [
    "print(f'The max is: {maximum_number}')\n",
    "print('The max is: ' + str(max([4, 2, 3, 1])))\n"
   ]
  },
  {
   "cell_type": "code",
   "execution_count": null,
   "id": "2c86b0b4",
   "metadata": {},
   "outputs": [],
   "source": [
    "name = input('what is your name?')\n",
    "print(f'hello, nice to meet you {name}.')"
   ]
  },
  {
   "cell_type": "code",
   "execution_count": null,
   "id": "c37a5b22",
   "metadata": {},
   "outputs": [],
   "source": [
    "min([1,2,3,4,-1])\n",
    "print('the min is:' + str(min([1,2,3,4,-1])))"
   ]
  },
  {
   "cell_type": "code",
   "execution_count": null,
   "id": "ea458c3e",
   "metadata": {},
   "outputs": [],
   "source": [
    "def add(n):\n",
    "    return n + 1\n",
    "six = add(add(add(add(2)))*2)\n",
    "print(six)\n"
   ]
  },
  {
   "cell_type": "code",
   "execution_count": null,
   "id": "62169699",
   "metadata": {},
   "outputs": [],
   "source": [
    "def increment(n):\n",
    "    return n + 1\n",
    "    print('You will never see this')\n",
    "    return n + 1\n",
    "\n",
    "increment(3)\n"
   ]
  },
  {
   "cell_type": "code",
   "execution_count": null,
   "id": "0ff0ac03",
   "metadata": {},
   "outputs": [],
   "source": [
    "def add(a, b): #a , b are the parameters\n",
    "\n",
    "    return a + b\n",
    "\n",
    "x = 300\n",
    "seven = add(x, 4)\n",
    "print(seven)"
   ]
  },
  {
   "cell_type": "code",
   "execution_count": null,
   "id": "8a9eb1d2",
   "metadata": {},
   "outputs": [],
   "source": [
    "def shout(message):\n",
    "    print(message.upper() + '!!!')\n",
    "\n",
    "return_value = shout('hey there')\n",
    "\n",
    "print(return_value)\n"
   ]
  },
  {
   "cell_type": "code",
   "execution_count": null,
   "id": "5f2ea0ad",
   "metadata": {},
   "outputs": [],
   "source": [
    "def shout(message):\n",
    "    return message.upper() + '!!!'\n",
    "\n",
    "a = shout('hey there')\n",
    "\n",
    "\n",
    "print(a)"
   ]
  },
  {
   "cell_type": "code",
   "execution_count": null,
   "id": "47d25828",
   "metadata": {},
   "outputs": [],
   "source": [
    "def sayhello(name='World', greeting='Hello', gender = 'x', race = 'l'):\n",
    "    return f'{greeting}, {gender}, {race}, {name} !'\n"
   ]
  },
  {
   "cell_type": "code",
   "execution_count": null,
   "id": "41e71d39",
   "metadata": {},
   "outputs": [],
   "source": [
    "a = ['u','r','bu','teful']\n",
    "sayhello(*a) #Use*operator to treat each element in the list as an argument to the function.\n"
   ]
  },
  {
   "cell_type": "code",
   "execution_count": null,
   "id": "64aa1368",
   "metadata": {},
   "outputs": [],
   "source": [
    "sayhello('kels',greeting = 'sup' )\n"
   ]
  },
  {
   "cell_type": "markdown",
   "id": "bc313025",
   "metadata": {},
   "source": [
    "# local vs global variables"
   ]
  },
  {
   "cell_type": "code",
   "execution_count": null,
   "id": "cb2fa71c",
   "metadata": {},
   "outputs": [],
   "source": [
    "a_global_variable = 42\n",
    "\n",
    "def somefunction():\n",
    "    print(f\"Inside the function: {a_global_variable}\")\n"
   ]
  },
  {
   "cell_type": "code",
   "execution_count": null,
   "id": "2de72d0f",
   "metadata": {},
   "outputs": [],
   "source": [
    "somefunction()"
   ]
  },
  {
   "cell_type": "code",
   "execution_count": null,
   "id": "2475fe2a",
   "metadata": {},
   "outputs": [],
   "source": [
    "print('Outside the function: %s' % a_global_variable)\n"
   ]
  },
  {
   "cell_type": "code",
   "execution_count": null,
   "id": "126bfb8b",
   "metadata": {},
   "outputs": [],
   "source": [
    "a_local_variable = 'zza'\n",
    "\n",
    "def somefunction():\n",
    "    a_local_variable = 'pizza'\n",
    "    print('Inside the function: %s' % a_local_variable)\n",
    "\n",
    "somefunction()\n",
    "print(a_local_variable)"
   ]
  },
  {
   "cell_type": "code",
   "execution_count": null,
   "id": "f7bd47be",
   "metadata": {},
   "outputs": [],
   "source": [
    "def add(a, b):\n",
    "    result = a + b\n",
    "    return result, a, b\n",
    "\n",
    "q = add(1,2)\n"
   ]
  },
  {
   "cell_type": "markdown",
   "id": "1224893b",
   "metadata": {},
   "source": [
    "# Exercises #"
   ]
  },
  {
   "cell_type": "markdown",
   "id": "33c014eb",
   "metadata": {},
   "source": [
    "1. Define a function named is_two. It should accept one input and return True if the passed input is either the number or the string 2, False otherwise."
   ]
  },
  {
   "cell_type": "code",
   "execution_count": null,
   "id": "f1857928",
   "metadata": {},
   "outputs": [],
   "source": [
    "def is_two(input_value):\n",
    "    return input_value == 2 or input_value == '2'\n",
    "\n",
    "is_two(3)"
   ]
  },
  {
   "cell_type": "code",
   "execution_count": 19,
   "id": "a382a5f8",
   "metadata": {},
   "outputs": [
    {
     "data": {
      "text/plain": [
       "True"
      ]
     },
     "execution_count": 19,
     "metadata": {},
     "output_type": "execute_result"
    }
   ],
   "source": [
    "#another way\n",
    "def is_two(input_value):\n",
    "    if input_value in (2,'2',2.0):\n",
    "        return True\n",
    "    else: \n",
    "        return False\n",
    "is_two(2)"
   ]
  },
  {
   "cell_type": "markdown",
   "id": "d4e316b2",
   "metadata": {},
   "source": [
    "2. Define a function named is_vowel. It should return True if the passed string is a vowel, False otherwise."
   ]
  },
  {
   "cell_type": "code",
   "execution_count": 25,
   "id": "ba1c6b6e",
   "metadata": {},
   "outputs": [
    {
     "data": {
      "text/plain": [
       "True"
      ]
     },
     "execution_count": 25,
     "metadata": {},
     "output_type": "execute_result"
    }
   ],
   "source": [
    "def is_vowel(string):\n",
    "    return True if string.lower() in list('aeiou') else False\n",
    "\n",
    "is_vowel('a')"
   ]
  },
  {
   "cell_type": "code",
   "execution_count": 34,
   "id": "05bd9112",
   "metadata": {},
   "outputs": [
    {
     "data": {
      "text/plain": [
       "True"
      ]
     },
     "execution_count": 34,
     "metadata": {},
     "output_type": "execute_result"
    }
   ],
   "source": [
    "#another way\n",
    "\n",
    "def is_vowel(somestring):\n",
    "    if type(somestring) == str:\n",
    "        if len(somestring) == 1 and somestring.isalpha():\n",
    "            return somestring.lower() in list ('aeiou')\n",
    "        else:\n",
    "            return False\n",
    "    \n",
    "is_vowel('i')"
   ]
  },
  {
   "cell_type": "code",
   "execution_count": 31,
   "id": "2ad8174a",
   "metadata": {},
   "outputs": [
    {
     "data": {
      "text/plain": [
       "False"
      ]
     },
     "execution_count": 31,
     "metadata": {},
     "output_type": "execute_result"
    }
   ],
   "source": [
    "def is_vowel(x):\n",
    "    \"\"\"\n",
    "    Return if the value passed is a vowel or not.\n",
    "\n",
    "    Parameters\n",
    "    ----------\n",
    "    x : string\n",
    "        Takes a single-letter string argument.\n",
    "\n",
    "    Returns\n",
    "    -------\n",
    "    bool\n",
    "        Returns True if the character is a vowel, and False otherwise.\n",
    "\n",
    "    \"\"\"\n",
    "    vowels = ['a','e','i','o','u']\n",
    "    \n",
    "    # Check if string has numbers\n",
    "    if x.isalpha():\n",
    "        if x.lower() in vowels:\n",
    "            return True\n",
    "    \n",
    "    # Return false if nothing else\n",
    "    return False\n",
    "\n",
    "assert is_vowel('a') == True\n",
    "assert is_vowel('c') == False\n",
    "assert is_vowel('A') == True\n",
    "assert is_vowel('H') == False\n",
    "\n",
    "is_vowel('ae')\n"
   ]
  },
  {
   "cell_type": "markdown",
   "id": "4478e175",
   "metadata": {},
   "source": [
    "3. Define a function named is_consonant. It should return True if the passed string is a consonant, False otherwise. Use your is_vowel function to accomplish this.\n"
   ]
  },
  {
   "cell_type": "code",
   "execution_count": null,
   "id": "f462f08a",
   "metadata": {},
   "outputs": [],
   "source": [
    "def is_consonant(string):\n",
    "    return True if string.lower() not in ['a','e','i','o','u'] else False\n",
    "\n",
    "is_consonant('b')"
   ]
  },
  {
   "cell_type": "markdown",
   "id": "acec4d14",
   "metadata": {},
   "source": [
    "4. Define a function that accepts a string that is a word. The function should capitalize the first letter of the word if the word starts with a consonant."
   ]
  },
  {
   "cell_type": "code",
   "execution_count": 38,
   "id": "7088ef1e",
   "metadata": {},
   "outputs": [
    {
     "data": {
      "text/plain": [
       "'You r a pear'"
      ]
     },
     "execution_count": 38,
     "metadata": {},
     "output_type": "execute_result"
    }
   ],
   "source": [
    "consonants = ['b', 'c', 'd', 'f', 'g', 'h', 'j', 'k', 'l', 'm', 'n', 'p', 'q', 'r', 's', 't', 'v', 'w', 'x', 'y', 'z']\n",
    "def accept(string):\n",
    "    if string[0] in consonants:\n",
    "        return string[0].upper() + string[1:]\n",
    "    else:\n",
    "        return string\n",
    "accept('you r a pear')   \n",
    "    "
   ]
  },
  {
   "cell_type": "code",
   "execution_count": 39,
   "id": "7ab2a407",
   "metadata": {},
   "outputs": [
    {
     "name": "stdout",
     "output_type": "stream",
     "text": [
      "Exercise 3 is correct\n"
     ]
    }
   ],
   "source": [
    "#another way\n",
    "def is_consonant(x):\n",
    "    \"\"\"\n",
    "    Return if the value passed is a consonant or not.\n",
    "\n",
    "    Parameters\n",
    "    ----------\n",
    "    x : string\n",
    "        Takes a single-letter string argument.\n",
    "\n",
    "    Returns\n",
    "    -------\n",
    "    bool\n",
    "        Inverses the is_vowel return Returns True if not a vowel, and false otherwise.\n",
    "\n",
    "    \"\"\"\n",
    "    if x.isalpha():\n",
    "        return not is_vowel(x)\n",
    "    \n",
    "    # Return false if nothing else\n",
    "    return False\n",
    "\n",
    "assert is_consonant('a') == False\n",
    "assert is_consonant('B') == True\n",
    "assert is_consonant('8') == False\n",
    "assert is_consonant('i') == False\n",
    "assert is_consonant('Y') == True\n",
    "print('Exercise 3 is correct')\n"
   ]
  },
  {
   "cell_type": "markdown",
   "id": "601c422f",
   "metadata": {},
   "source": [
    "5. Define a function named calculate_tip. It should accept a tip percentage (a number between 0 and 1) and the bill total, and return the amount to tip."
   ]
  },
  {
   "cell_type": "code",
   "execution_count": 41,
   "id": "467064d3",
   "metadata": {},
   "outputs": [
    {
     "data": {
      "text/plain": [
       "1.0"
      ]
     },
     "execution_count": 41,
     "metadata": {},
     "output_type": "execute_result"
    }
   ],
   "source": [
    "def calculate_tip(tip_percentage, bill):\n",
    "    tip = tip_percentage * bill\n",
    "    return tip\n",
    "\n",
    "calculate_tip(0.1,10)"
   ]
  },
  {
   "cell_type": "markdown",
   "id": "bfd20df9",
   "metadata": {},
   "source": [
    "6. Define a function named apply_discount. It should accept a original price, and a discount percentage, and return the price after the discount is applied."
   ]
  },
  {
   "cell_type": "code",
   "execution_count": null,
   "id": "6ccf6cd3",
   "metadata": {},
   "outputs": [],
   "source": [
    "def apply_discount(og_price, dis_per):\n",
    "    final_price = og_price * (1 - dis_per)\n",
    "    return round(final_price,2)\n",
    "apply_discount (101,0.13)"
   ]
  },
  {
   "cell_type": "markdown",
   "id": "ce507859",
   "metadata": {},
   "source": [
    "7. Define a function named handle_commas. It should accept a string that is a number that contains commas in it as input, and return a number as output.\n"
   ]
  },
  {
   "cell_type": "code",
   "execution_count": 42,
   "id": "09d40368",
   "metadata": {},
   "outputs": [
    {
     "data": {
      "text/plain": [
       "2"
      ]
     },
     "execution_count": 42,
     "metadata": {},
     "output_type": "execute_result"
    }
   ],
   "source": [
    "def handle_commas(number,):\n",
    "    return int(number)\n",
    "\n",
    "handle_commas(2,)"
   ]
  },
  {
   "cell_type": "code",
   "execution_count": 47,
   "id": "3ccb9ce5",
   "metadata": {},
   "outputs": [
    {
     "data": {
      "text/plain": [
       "False"
      ]
     },
     "execution_count": 47,
     "metadata": {},
     "output_type": "execute_result"
    }
   ],
   "source": [
    "#another way\n",
    "def handle_commas(number):\n",
    "    if type(number) == str:\n",
    "        strip_number = number.replace(',','')\n",
    "        if strip_number.isdigit():\n",
    "            return int(strip_number)\n",
    "        else:\n",
    "            return False\n",
    "    else:\n",
    "        return False\n",
    "    \n",
    "handle_commas(60,)                "
   ]
  },
  {
   "cell_type": "markdown",
   "id": "e9b773c4",
   "metadata": {},
   "source": [
    "8. Define a function named get_letter_grade. It should accept a number and return the letter grade associated with that number (A-F)."
   ]
  },
  {
   "cell_type": "code",
   "execution_count": 14,
   "id": "1754ab1a",
   "metadata": {},
   "outputs": [
    {
     "name": "stdout",
     "output_type": "stream",
     "text": [
      "200 is not a valid input\n"
     ]
    }
   ],
   "source": [
    "def get_letter_grade(number):\n",
    "    if 90<= number < 100:\n",
    "        return(\"A\")\n",
    "    elif 80 <= number < 90:\n",
    "        return(\"B\")\n",
    "    elif 70 <= number < 80:\n",
    "        return('C')\n",
    "    elif 60<= number <70:\n",
    "        return('D')\n",
    "    elif 0<=number<60:\n",
    "        return('F')\n",
    "    else:\n",
    "        print(f'{number} is not a valid input')\n",
    "    \n",
    "    \n",
    "get_letter_grade(200)  \n",
    "    "
   ]
  },
  {
   "cell_type": "markdown",
   "id": "4eee816a",
   "metadata": {},
   "source": [
    "9. Define a function named remove_vowels that accepts a string and returns a string with all the vowels removed."
   ]
  },
  {
   "cell_type": "code",
   "execution_count": 1,
   "id": "0caaba8a",
   "metadata": {},
   "outputs": [
    {
     "data": {
      "text/plain": [
       "'ppl'"
      ]
     },
     "execution_count": 1,
     "metadata": {},
     "output_type": "execute_result"
    }
   ],
   "source": [
    "def remove_vowels(word):\n",
    "    new_word = ''\n",
    "    for letter in word:\n",
    "        if letter not in list('aeiou'):\n",
    "            new_word += letter\n",
    "    return new_word\n",
    "    \n",
    "remove_vowels('apple')\n",
    "    "
   ]
  },
  {
   "cell_type": "markdown",
   "id": "beeb1ba4",
   "metadata": {},
   "source": [
    "10. Define a function named normalize_name. It should accept a string and return a valid python identifier, that is:\n",
    "\n",
    "- anything that is not a valid python identifier should be removed\n",
    "- leading and trailing whitespace should be removed\n",
    "- everything should be lowercase\n",
    "- spaces should be replaced with underscores\n",
    "\n",
    "for example:\n",
    "- Name will become name\n",
    "- First Name will become first_name\n",
    "- % Completed will become completed\n"
   ]
  },
  {
   "cell_type": "code",
   "execution_count": 16,
   "id": "b4caa060",
   "metadata": {},
   "outputs": [
    {
     "name": "stdout",
     "output_type": "stream",
     "text": [
      "ppel\n"
     ]
    }
   ],
   "source": [
    "somestr = ''\n",
    "word = 'Appeal'\n",
    "for letter in word:\n",
    "    if letter.lower() !='a': \n",
    "        # print(somestr)\n",
    "        somestr += letter # somestr = somestr + letter\n",
    "        \n",
    "print(somestr)"
   ]
  },
  {
   "cell_type": "markdown",
   "id": "5fb148ff",
   "metadata": {},
   "source": [
    "11. Write a function named cumulative_sum that accepts a list of numbers and returns a list that is the cumulative sum of the numbers in the list.\n",
    "\n",
    "- cumulative_sum([1, 1, 1]) returns [1, 2, 3]\n",
    "- cumulative_sum([1, 2, 3, 4]) returns [1, 3, 6, 10]"
   ]
  },
  {
   "cell_type": "code",
   "execution_count": 59,
   "id": "8b18fcda",
   "metadata": {},
   "outputs": [],
   "source": [
    "def cum_sum(oldlist):\n",
    "    newlist = []\n",
    "    c_sum = 0\n",
    "    for num in oldlist:\n",
    "        ''''''\n",
    "        c_sum += num\n",
    "        ''''''\n",
    "        newlist.append(c_sum)\n",
    "        \n",
    "    print(f'oldlist: {oldlist}')\n",
    "    print(f'newlist: {newlist}')\n",
    "    \n"
   ]
  },
  {
   "cell_type": "code",
   "execution_count": 60,
   "id": "00df1d69",
   "metadata": {},
   "outputs": [
    {
     "name": "stdout",
     "output_type": "stream",
     "text": [
      "oldlist: [1, 1, 1]\n",
      "newlist: [1, 2, 3]\n"
     ]
    }
   ],
   "source": [
    "cum_sum([1,1,1])"
   ]
  },
  {
   "cell_type": "code",
   "execution_count": null,
   "id": "c80676f5",
   "metadata": {},
   "outputs": [],
   "source": []
  },
  {
   "cell_type": "code",
   "execution_count": null,
   "id": "004f7f04",
   "metadata": {},
   "outputs": [],
   "source": []
  }
 ],
 "metadata": {
  "kernelspec": {
   "display_name": "Python 3 (ipykernel)",
   "language": "python",
   "name": "python3"
  },
  "language_info": {
   "codemirror_mode": {
    "name": "ipython",
    "version": 3
   },
   "file_extension": ".py",
   "mimetype": "text/x-python",
   "name": "python",
   "nbconvert_exporter": "python",
   "pygments_lexer": "ipython3",
   "version": "3.11.5"
  }
 },
 "nbformat": 4,
 "nbformat_minor": 5
}
