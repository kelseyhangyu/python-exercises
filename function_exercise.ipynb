{
 "cells": [
  {
   "cell_type": "markdown",
   "id": "01d3ef67",
   "metadata": {},
   "source": [
    "# Notes"
   ]
  },
  {
   "cell_type": "code",
   "execution_count": null,
   "id": "f1008975",
   "metadata": {},
   "outputs": [],
   "source": [
    "max([4, 2, 3, 1])\n",
    "maximum_number = max([4, 2, 3, 1])\n",
    "print(maximum_number)\n"
   ]
  },
  {
   "cell_type": "code",
   "execution_count": null,
   "id": "841e4555",
   "metadata": {},
   "outputs": [],
   "source": [
    "print(f'The max is: {maximum_number}')\n",
    "print('The max is: ' + str(max([4, 2, 3, 1])))\n"
   ]
  },
  {
   "cell_type": "code",
   "execution_count": null,
   "id": "76acfdd3",
   "metadata": {},
   "outputs": [],
   "source": [
    "name = input('what is your name?')\n",
    "print(f'hello, nice to meet you {name}.')"
   ]
  },
  {
   "cell_type": "code",
   "execution_count": null,
   "id": "805b63da",
   "metadata": {},
   "outputs": [],
   "source": [
    "min([1,2,3,4,-1])\n",
    "print('the min is:' + str(min([1,2,3,4,-1])))"
   ]
  },
  {
   "cell_type": "code",
   "execution_count": null,
   "id": "259297f8",
   "metadata": {},
   "outputs": [],
   "source": [
    "def add(n):\n",
    "    return n + 1\n",
    "six = add(add(add(add(2)))*2)\n",
    "print(six)\n"
   ]
  },
  {
   "cell_type": "code",
   "execution_count": null,
   "id": "5b481f3b",
   "metadata": {},
   "outputs": [],
   "source": [
    "def increment(n):\n",
    "    return n + 1\n",
    "    print('You will never see this')\n",
    "    return n + 1\n",
    "\n",
    "increment(3)\n"
   ]
  },
  {
   "cell_type": "code",
   "execution_count": null,
   "id": "2b07630c",
   "metadata": {},
   "outputs": [],
   "source": [
    "def add(a, b): #a , b are the parameters\n",
    "\n",
    "    return a + b\n",
    "\n",
    "x = 300\n",
    "seven = add(x, 4)\n",
    "print(seven)"
   ]
  },
  {
   "cell_type": "code",
   "execution_count": null,
   "id": "86e5be7a",
   "metadata": {},
   "outputs": [],
   "source": [
    "def shout(message):\n",
    "    print(message.upper() + '!!!')\n",
    "\n",
    "return_value = shout('hey there')\n",
    "\n",
    "print(return_value)\n"
   ]
  },
  {
   "cell_type": "code",
   "execution_count": null,
   "id": "8a65fd96",
   "metadata": {},
   "outputs": [],
   "source": [
    "def shout(message):\n",
    "    return message.upper() + '!!!'\n",
    "\n",
    "a = shout('hey there')\n",
    "\n",
    "\n",
    "print(a)"
   ]
  },
  {
   "cell_type": "code",
   "execution_count": null,
   "id": "e9c9eb6b",
   "metadata": {},
   "outputs": [],
   "source": [
    "def sayhello(name='World', greeting='Hello', gender = 'x', race = 'l'):\n",
    "    return f'{greeting}, {gender}, {race}, {name} !'\n"
   ]
  },
  {
   "cell_type": "code",
   "execution_count": null,
   "id": "1b97741a",
   "metadata": {},
   "outputs": [],
   "source": [
    "a = ['u','r','bu','teful']\n",
    "sayhello(*a) #Use*operator to treat each element in the list as an argument to the function.\n"
   ]
  },
  {
   "cell_type": "code",
   "execution_count": null,
   "id": "390eaa21",
   "metadata": {},
   "outputs": [],
   "source": [
    "sayhello('kels',greeting = 'sup' )\n"
   ]
  },
  {
   "cell_type": "markdown",
   "id": "91dd3d2c",
   "metadata": {},
   "source": [
    "# local vs global variables"
   ]
  },
  {
   "cell_type": "code",
   "execution_count": null,
   "id": "a4f09305",
   "metadata": {},
   "outputs": [],
   "source": [
    "a_global_variable = 42\n",
    "\n",
    "def somefunction():\n",
    "    print(f\"Inside the function: {a_global_variable}\")\n"
   ]
  },
  {
   "cell_type": "code",
   "execution_count": null,
   "id": "268c5602",
   "metadata": {},
   "outputs": [],
   "source": [
    "somefunction()"
   ]
  },
  {
   "cell_type": "code",
   "execution_count": null,
   "id": "4b5b3e7d",
   "metadata": {},
   "outputs": [],
   "source": [
    "print('Outside the function: %s' % a_global_variable)\n"
   ]
  },
  {
   "cell_type": "code",
   "execution_count": null,
   "id": "29de9d54",
   "metadata": {},
   "outputs": [],
   "source": [
    "a_local_variable = 'zza'\n",
    "\n",
    "def somefunction():\n",
    "    a_local_variable = 'pizza'\n",
    "    print('Inside the function: %s' % a_local_variable)\n",
    "\n",
    "somefunction()\n",
    "print(a_local_variable)"
   ]
  },
  {
   "cell_type": "code",
   "execution_count": 18,
   "id": "343d0714",
   "metadata": {},
   "outputs": [],
   "source": [
    "def add(a, b):\n",
    "    result = a + b\n",
    "    return result, a, b\n",
    "\n",
    "q = add(1,2)\n"
   ]
  },
  {
   "cell_type": "markdown",
   "id": "64211f58",
   "metadata": {},
   "source": [
    "# Exercises #"
   ]
  },
  {
   "cell_type": "markdown",
   "id": "90a30f0d",
   "metadata": {},
   "source": [
    "1. Define a function named is_two. It should accept one input and return True if the passed input is either the number or the string 2, False otherwise."
   ]
  },
  {
   "cell_type": "code",
   "execution_count": 41,
   "id": "6e577014",
   "metadata": {},
   "outputs": [
    {
     "data": {
      "text/plain": [
       "False"
      ]
     },
     "execution_count": 41,
     "metadata": {},
     "output_type": "execute_result"
    }
   ],
   "source": [
    "def is_two(input_value):\n",
    "    return input_value == 2 or input_value == '2'\n",
    "\n",
    "is_two(3)"
   ]
  },
  {
   "cell_type": "markdown",
   "id": "b3e749b4",
   "metadata": {},
   "source": [
    "2. Define a function named is_vowel. It should return True if the passed string is a vowel, False otherwise."
   ]
  },
  {
   "cell_type": "code",
   "execution_count": 45,
   "id": "cb7a673c",
   "metadata": {},
   "outputs": [],
   "source": [
    "def is_vowel(string):\n",
    "    return True if string.lower() in ['a','e','i','o','u'] else False\n",
    "result = is"
   ]
  },
  {
   "cell_type": "markdown",
   "id": "2b000176",
   "metadata": {},
   "source": [
    "3. Define a function named is_consonant. It should return True if the passed string is a consonant, False otherwise. Use your is_vowel function to accomplish this.\n"
   ]
  },
  {
   "cell_type": "code",
   "execution_count": null,
   "id": "a930bac3",
   "metadata": {},
   "outputs": [],
   "source": []
  },
  {
   "cell_type": "markdown",
   "id": "90dc9bbb",
   "metadata": {},
   "source": [
    "4. Define a function that accepts a string that is a word. The function should capitalize the first letter of the word if the word starts with a consonant."
   ]
  },
  {
   "cell_type": "code",
   "execution_count": null,
   "id": "c95a8f38",
   "metadata": {},
   "outputs": [],
   "source": []
  },
  {
   "cell_type": "markdown",
   "id": "2e3f51f5",
   "metadata": {},
   "source": [
    "5. Define a function named calculate_tip. It should accept a tip percentage (a number between 0 and 1) and the bill total, and return the amount to tip."
   ]
  },
  {
   "cell_type": "code",
   "execution_count": null,
   "id": "e670d633",
   "metadata": {},
   "outputs": [],
   "source": []
  },
  {
   "cell_type": "markdown",
   "id": "ea6ce1f0",
   "metadata": {},
   "source": [
    "6. Define a function named apply_discount. It should accept a original price, and a discount percentage, and return the price after the discount is applied."
   ]
  },
  {
   "cell_type": "code",
   "execution_count": null,
   "id": "6d8fbcd1",
   "metadata": {},
   "outputs": [],
   "source": []
  },
  {
   "cell_type": "markdown",
   "id": "43348d74",
   "metadata": {},
   "source": [
    "7. Define a function named handle_commas. It should accept a string that is a number that contains commas in it as input, and return a number as output.\n"
   ]
  },
  {
   "cell_type": "code",
   "execution_count": null,
   "id": "1c2d68d1",
   "metadata": {},
   "outputs": [],
   "source": []
  },
  {
   "cell_type": "markdown",
   "id": "2ceef5a1",
   "metadata": {},
   "source": [
    "8. Define a function named get_letter_grade. It should accept a number and return the letter grade associated with that number (A-F)."
   ]
  },
  {
   "cell_type": "code",
   "execution_count": null,
   "id": "51ebff6e",
   "metadata": {},
   "outputs": [],
   "source": []
  },
  {
   "cell_type": "markdown",
   "id": "522f2420",
   "metadata": {},
   "source": [
    "9. Define a function named remove_vowels that accepts a string and returns a string with all the vowels removed."
   ]
  },
  {
   "cell_type": "code",
   "execution_count": null,
   "id": "8381b0aa",
   "metadata": {},
   "outputs": [],
   "source": []
  },
  {
   "cell_type": "markdown",
   "id": "384127b0",
   "metadata": {},
   "source": [
    "10. Define a function named normalize_name. It should accept a string and return a valid python identifier, that is:\n",
    "\n",
    "- anything that is not a valid python identifier should be removed\n",
    "- leading and trailing whitespace should be removed\n",
    "- everything should be lowercase\n",
    "- spaces should be replaced with underscores\n",
    "\n",
    "for example:\n",
    "- Name will become name\n",
    "- First Name will become first_name\n",
    "- % Completed will become completed\n"
   ]
  },
  {
   "cell_type": "code",
   "execution_count": null,
   "id": "bdb3542c",
   "metadata": {},
   "outputs": [],
   "source": []
  },
  {
   "cell_type": "markdown",
   "id": "ad6de1d2",
   "metadata": {},
   "source": [
    "11. Write a function named cumulative_sum that accepts a list of numbers and returns a list that is the cumulative sum of the numbers in the list.\n",
    "\n",
    "- cumulative_sum([1, 1, 1]) returns [1, 2, 3]\n",
    "- cumulative_sum([1, 2, 3, 4]) returns [1, 3, 6, 10]"
   ]
  },
  {
   "cell_type": "code",
   "execution_count": null,
   "id": "91eed99b",
   "metadata": {},
   "outputs": [],
   "source": []
  },
  {
   "cell_type": "code",
   "execution_count": null,
   "id": "51bdb96c",
   "metadata": {},
   "outputs": [],
   "source": []
  },
  {
   "cell_type": "code",
   "execution_count": null,
   "id": "0915f079",
   "metadata": {},
   "outputs": [],
   "source": []
  },
  {
   "cell_type": "code",
   "execution_count": null,
   "id": "466a0e2d",
   "metadata": {},
   "outputs": [],
   "source": []
  }
 ],
 "metadata": {
  "kernelspec": {
   "display_name": "Python 3 (ipykernel)",
   "language": "python",
   "name": "python3"
  },
  "language_info": {
   "codemirror_mode": {
    "name": "ipython",
    "version": 3
   },
   "file_extension": ".py",
   "mimetype": "text/x-python",
   "name": "python",
   "nbconvert_exporter": "python",
   "pygments_lexer": "ipython3",
   "version": "3.11.5"
  }
 },
 "nbformat": 4,
 "nbformat_minor": 5
}
