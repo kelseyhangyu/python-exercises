{
 "cells": [
  {
   "cell_type": "markdown",
   "id": "4851a061",
   "metadata": {},
   "source": [
    "# Notes"
   ]
  },
  {
   "cell_type": "code",
   "execution_count": null,
   "id": "854c8e70",
   "metadata": {},
   "outputs": [],
   "source": [
    "max([4, 2, 3, 1])\n",
    "maximum_number = max([4, 2, 3, 1])\n",
    "print(maximum_number)\n"
   ]
  },
  {
   "cell_type": "code",
   "execution_count": null,
   "id": "db8e58d3",
   "metadata": {},
   "outputs": [],
   "source": [
    "print(f'The max is: {maximum_number}')\n",
    "print('The max is: ' + str(max([4, 2, 3, 1])))\n"
   ]
  },
  {
   "cell_type": "code",
   "execution_count": null,
   "id": "4da74941",
   "metadata": {},
   "outputs": [],
   "source": [
    "name = input('what is your name?')\n",
    "print(f'hello, nice to meet you {name}.')"
   ]
  },
  {
   "cell_type": "code",
   "execution_count": null,
   "id": "568dd853",
   "metadata": {},
   "outputs": [],
   "source": [
    "min([1,2,3,4,-1])\n",
    "print('the min is:' + str(min([1,2,3,4,-1])))"
   ]
  },
  {
   "cell_type": "code",
   "execution_count": null,
   "id": "4942d913",
   "metadata": {},
   "outputs": [],
   "source": [
    "def add(n):\n",
    "    return n + 1\n",
    "six = add(add(add(add(2)))*2)\n",
    "print(six)\n"
   ]
  },
  {
   "cell_type": "code",
   "execution_count": null,
   "id": "75823082",
   "metadata": {},
   "outputs": [],
   "source": [
    "def increment(n):\n",
    "    return n + 1\n",
    "    print('You will never see this')\n",
    "    return n + 1\n",
    "\n",
    "increment(3)\n"
   ]
  },
  {
   "cell_type": "code",
   "execution_count": null,
   "id": "6d45aacc",
   "metadata": {},
   "outputs": [],
   "source": [
    "def add(a, b): #a , b are the parameters\n",
    "\n",
    "    return a + b\n",
    "\n",
    "x = 300\n",
    "seven = add(x, 4)\n",
    "print(seven)"
   ]
  },
  {
   "cell_type": "code",
   "execution_count": null,
   "id": "8e28f91a",
   "metadata": {},
   "outputs": [],
   "source": [
    "def shout(message):\n",
    "    print(message.upper() + '!!!')\n",
    "\n",
    "return_value = shout('hey there')\n",
    "\n",
    "print(return_value)\n"
   ]
  },
  {
   "cell_type": "code",
   "execution_count": null,
   "id": "bf86743c",
   "metadata": {},
   "outputs": [],
   "source": [
    "def shout(message):\n",
    "    return message.upper() + '!!!'\n",
    "\n",
    "a = shout('hey there')\n",
    "\n",
    "\n",
    "print(a)"
   ]
  },
  {
   "cell_type": "code",
   "execution_count": null,
   "id": "f3aa559a",
   "metadata": {},
   "outputs": [],
   "source": [
    "def sayhello(name='World', greeting='Hello', gender = 'x', race = 'l'):\n",
    "    return f'{greeting}, {gender}, {race}, {name} !'\n"
   ]
  },
  {
   "cell_type": "code",
   "execution_count": null,
   "id": "76d21ddb",
   "metadata": {},
   "outputs": [],
   "source": [
    "a = ['u','r','bu','teful']\n",
    "sayhello(*a) #Use*operator to treat each element in the list as an argument to the function.\n"
   ]
  },
  {
   "cell_type": "code",
   "execution_count": null,
   "id": "bf019644",
   "metadata": {},
   "outputs": [],
   "source": [
    "sayhello('kels',greeting = 'sup' )\n"
   ]
  },
  {
   "cell_type": "markdown",
   "id": "696b4251",
   "metadata": {},
   "source": [
    "# local vs global variables"
   ]
  },
  {
   "cell_type": "code",
   "execution_count": null,
   "id": "79bf6906",
   "metadata": {},
   "outputs": [],
   "source": [
    "a_global_variable = 42\n",
    "\n",
    "def somefunction():\n",
    "    print(f\"Inside the function: {a_global_variable}\")\n"
   ]
  },
  {
   "cell_type": "code",
   "execution_count": null,
   "id": "24258c24",
   "metadata": {},
   "outputs": [],
   "source": [
    "somefunction()"
   ]
  },
  {
   "cell_type": "code",
   "execution_count": null,
   "id": "cb3d1bd1",
   "metadata": {},
   "outputs": [],
   "source": [
    "print('Outside the function: %s' % a_global_variable)\n"
   ]
  },
  {
   "cell_type": "code",
   "execution_count": null,
   "id": "d189510d",
   "metadata": {},
   "outputs": [],
   "source": [
    "a_local_variable = 'zza'\n",
    "\n",
    "def somefunction():\n",
    "    a_local_variable = 'pizza'\n",
    "    print('Inside the function: %s' % a_local_variable)\n",
    "\n",
    "somefunction()\n",
    "print(a_local_variable)"
   ]
  },
  {
   "cell_type": "code",
   "execution_count": null,
   "id": "1328ec8d",
   "metadata": {},
   "outputs": [],
   "source": [
    "def add(a, b):\n",
    "    result = a + b\n",
    "    return result, a, b\n",
    "\n",
    "q = add(1,2)\n"
   ]
  },
  {
   "cell_type": "markdown",
   "id": "37042f54",
   "metadata": {},
   "source": [
    "# Exercises #"
   ]
  },
  {
   "cell_type": "markdown",
   "id": "d01de6fe",
   "metadata": {},
   "source": [
    "1. Define a function named is_two. It should accept one input and return True if the passed input is either the number or the string 2, False otherwise."
   ]
  },
  {
   "cell_type": "code",
   "execution_count": null,
   "id": "f2f279df",
   "metadata": {},
   "outputs": [],
   "source": [
    "def is_two(input_value):\n",
    "    return input_value == 2 or input_value == '2'\n",
    "\n",
    "is_two(3)"
   ]
  },
  {
   "cell_type": "code",
   "execution_count": 19,
   "id": "9e4c3e41",
   "metadata": {},
   "outputs": [
    {
     "data": {
      "text/plain": [
       "True"
      ]
     },
     "execution_count": 19,
     "metadata": {},
     "output_type": "execute_result"
    }
   ],
   "source": [
    "#another way\n",
    "def is_two(input_value):\n",
    "    if input_value in (2,'2',2.0):\n",
    "        return True\n",
    "    else: \n",
    "        return False\n",
    "is_two(2)"
   ]
  },
  {
   "cell_type": "markdown",
   "id": "fb8fde2b",
   "metadata": {},
   "source": [
    "2. Define a function named is_vowel. It should return True if the passed string is a vowel, False otherwise."
   ]
  },
  {
   "cell_type": "code",
   "execution_count": 25,
   "id": "6bf9199a",
   "metadata": {},
   "outputs": [
    {
     "data": {
      "text/plain": [
       "True"
      ]
     },
     "execution_count": 25,
     "metadata": {},
     "output_type": "execute_result"
    }
   ],
   "source": [
    "def is_vowel(string):\n",
    "    return True if string.lower() in list('aeiou') else False\n",
    "\n",
    "is_vowel('a')"
   ]
  },
  {
   "cell_type": "code",
   "execution_count": 34,
   "id": "f604e4d4",
   "metadata": {},
   "outputs": [
    {
     "data": {
      "text/plain": [
       "True"
      ]
     },
     "execution_count": 34,
     "metadata": {},
     "output_type": "execute_result"
    }
   ],
   "source": [
    "#another way\n",
    "\n",
    "def is_vowel(somestring):\n",
    "    if type(somestring) == str:\n",
    "        if len(somestring) == 1 and somestring.isalpha():\n",
    "            return somestring.lower() in list ('aeiou')\n",
    "        else:\n",
    "            return False\n",
    "    \n",
    "is_vowel('i')"
   ]
  },
  {
   "cell_type": "markdown",
   "id": "d4f8f187",
   "metadata": {},
   "source": [
    "3. Define a function named is_consonant. It should return True if the passed string is a consonant, False otherwise. Use your is_vowel function to accomplish this.\n"
   ]
  },
  {
   "cell_type": "code",
   "execution_count": null,
   "id": "11848ef1",
   "metadata": {},
   "outputs": [],
   "source": [
    "def is_consonant(string):\n",
    "    return True if string.lower() not in ['a','e','i','o','u'] else False\n",
    "\n",
    "is_consonant('b')"
   ]
  },
  {
   "cell_type": "markdown",
   "id": "1b98c9ad",
   "metadata": {},
   "source": [
    "4. Define a function that accepts a string that is a word. The function should capitalize the first letter of the word if the word starts with a consonant."
   ]
  },
  {
   "cell_type": "code",
   "execution_count": 38,
   "id": "2467cee8",
   "metadata": {},
   "outputs": [
    {
     "data": {
      "text/plain": [
       "'You r a pear'"
      ]
     },
     "execution_count": 38,
     "metadata": {},
     "output_type": "execute_result"
    }
   ],
   "source": [
    "consonants = ['b', 'c', 'd', 'f', 'g', 'h', 'j', 'k', 'l', 'm', 'n', 'p', 'q', 'r', 's', 't', 'v', 'w', 'x', 'y', 'z']\n",
    "def accept(string):\n",
    "    if string[0] in consonants:\n",
    "        return string[0].upper() + string[1:]\n",
    "    else:\n",
    "        return string\n",
    "accept('you r a pear')   \n",
    "    "
   ]
  },
  {
   "cell_type": "code",
   "execution_count": 39,
   "id": "60196b6c",
   "metadata": {},
   "outputs": [
    {
     "name": "stdout",
     "output_type": "stream",
     "text": [
      "Exercise 3 is correct\n"
     ]
    }
   ],
   "source": [
    "#another way\n",
    "def is_consonant(x):\n",
    "    \"\"\"\n",
    "    Return if the value passed is a consonant or not.\n",
    "\n",
    "    Parameters\n",
    "    ----------\n",
    "    x : string\n",
    "        Takes a single-letter string argument.\n",
    "\n",
    "    Returns\n",
    "    -------\n",
    "    bool\n",
    "        Inverses the is_vowel return Returns True if not a vowel, and false otherwise.\n",
    "\n",
    "    \"\"\"\n",
    "    if x.isalpha():\n",
    "        return not is_vowel(x)\n",
    "    \n",
    "    # Return false if nothing else\n",
    "    return False\n",
    "\n",
    "assert is_consonant('a') == False\n",
    "assert is_consonant('B') == True\n",
    "assert is_consonant('8') == False\n",
    "assert is_consonant('i') == False\n",
    "assert is_consonant('Y') == True\n",
    "print('Exercise 3 is correct')\n"
   ]
  },
  {
   "cell_type": "markdown",
   "id": "81f80a9e",
   "metadata": {},
   "source": [
    "5. Define a function named calculate_tip. It should accept a tip percentage (a number between 0 and 1) and the bill total, and return the amount to tip."
   ]
  },
  {
   "cell_type": "code",
   "execution_count": 41,
   "id": "feadde67",
   "metadata": {},
   "outputs": [
    {
     "data": {
      "text/plain": [
       "1.0"
      ]
     },
     "execution_count": 41,
     "metadata": {},
     "output_type": "execute_result"
    }
   ],
   "source": [
    "def calculate_tip(tip_percentage, bill):\n",
    "    tip = tip_percentage * bill\n",
    "    return tip\n",
    "\n",
    "calculate_tip(0.1,10)"
   ]
  },
  {
   "cell_type": "markdown",
   "id": "3cb1d16a",
   "metadata": {},
   "source": [
    "6. Define a function named apply_discount. It should accept a original price, and a discount percentage, and return the price after the discount is applied."
   ]
  },
  {
   "cell_type": "code",
   "execution_count": null,
   "id": "c5297fcb",
   "metadata": {},
   "outputs": [],
   "source": [
    "def apply_discount(og_price, dis_per):\n",
    "    final_price = og_price * (1 - dis_per)\n",
    "    return round(final_price,2)\n",
    "apply_discount (101,0.13)"
   ]
  },
  {
   "cell_type": "markdown",
   "id": "66f57f0d",
   "metadata": {},
   "source": [
    "7. Define a function named handle_commas. It should accept a string that is a number that contains commas in it as input, and return a number as output.\n"
   ]
  },
  {
   "cell_type": "code",
   "execution_count": null,
   "id": "2a3d15ac",
   "metadata": {},
   "outputs": [],
   "source": [
    "def handle_commas(number,):\n",
    "    return int(number)\n",
    "\n",
    "handle_commas(2,)"
   ]
  },
  {
   "cell_type": "markdown",
   "id": "a2749ebe",
   "metadata": {},
   "source": [
    "8. Define a function named get_letter_grade. It should accept a number and return the letter grade associated with that number (A-F)."
   ]
  },
  {
   "cell_type": "code",
   "execution_count": 2,
   "id": "497ed8c9",
   "metadata": {},
   "outputs": [
    {
     "name": "stdout",
     "output_type": "stream",
     "text": [
      "A\n"
     ]
    }
   ],
   "source": [
    "def get_letter_grade(number):\n",
    "    if number >= 90:\n",
    "        print(\"A\")\n",
    "    elif number >= 80:\n",
    "        print(\"B\")\n",
    "    elif number >=70:\n",
    "        print('C')\n",
    "    elif number >= 60:\n",
    "        print('D')\n",
    "    else:\n",
    "        print('F')\n",
    "    \n",
    "get_letter_grade(100)  \n",
    "    "
   ]
  },
  {
   "cell_type": "markdown",
   "id": "f9df5fd6",
   "metadata": {},
   "source": [
    "# ? 9. Define a function named remove_vowels that accepts a string and returns a string with all the vowels removed."
   ]
  },
  {
   "cell_type": "code",
   "execution_count": 9,
   "id": "54f9b02e",
   "metadata": {},
   "outputs": [
    {
     "data": {
      "text/plain": [
       "True"
      ]
     },
     "execution_count": 9,
     "metadata": {},
     "output_type": "execute_result"
    }
   ],
   "source": [
    "vowels = ['a','e','i','o','u']\n",
    "def remove_vowels(string):\n",
    "    result = string not in vowels\n",
    "    return result\n",
    "    \n",
    "remove_vowels('apple')\n",
    "    "
   ]
  },
  {
   "cell_type": "markdown",
   "id": "c4fd5639",
   "metadata": {},
   "source": [
    "10. Define a function named normalize_name. It should accept a string and return a valid python identifier, that is:\n",
    "\n",
    "- anything that is not a valid python identifier should be removed\n",
    "- leading and trailing whitespace should be removed\n",
    "- everything should be lowercase\n",
    "- spaces should be replaced with underscores\n",
    "\n",
    "for example:\n",
    "- Name will become name\n",
    "- First Name will become first_name\n",
    "- % Completed will become completed\n"
   ]
  },
  {
   "cell_type": "code",
   "execution_count": null,
   "id": "4ae7748e",
   "metadata": {},
   "outputs": [],
   "source": [
    "def normalize_name(string):\n",
    "    string = string.lower()\n",
    "    string = string.strip()\n",
    "    string = string.replace('','_')\n",
    "    for \n"
   ]
  },
  {
   "cell_type": "code",
   "execution_count": 16,
   "id": "3a59444e",
   "metadata": {},
   "outputs": [
    {
     "name": "stdout",
     "output_type": "stream",
     "text": [
      "ppel\n"
     ]
    }
   ],
   "source": [
    "somestr = ''\n",
    "word = 'Appeal'\n",
    "for letter in word:\n",
    "    if letter.lower() !='a': # missing parentheses on .lower\n",
    "        # print(somestr)\n",
    "        somestr += letter # somestr = somestr + letter\n",
    "        \n",
    "print(somestr)"
   ]
  },
  {
   "cell_type": "markdown",
   "id": "350fddca",
   "metadata": {},
   "source": [
    "11. Write a function named cumulative_sum that accepts a list of numbers and returns a list that is the cumulative sum of the numbers in the list.\n",
    "\n",
    "- cumulative_sum([1, 1, 1]) returns [1, 2, 3]\n",
    "- cumulative_sum([1, 2, 3, 4]) returns [1, 3, 6, 10]"
   ]
  },
  {
   "cell_type": "code",
   "execution_count": null,
   "id": "607d1de1",
   "metadata": {},
   "outputs": [],
   "source": []
  },
  {
   "cell_type": "code",
   "execution_count": null,
   "id": "d2c5925f",
   "metadata": {},
   "outputs": [],
   "source": []
  },
  {
   "cell_type": "code",
   "execution_count": null,
   "id": "f024ec96",
   "metadata": {},
   "outputs": [],
   "source": []
  },
  {
   "cell_type": "code",
   "execution_count": null,
   "id": "61aba0d4",
   "metadata": {},
   "outputs": [],
   "source": []
  }
 ],
 "metadata": {
  "kernelspec": {
   "display_name": "Python 3 (ipykernel)",
   "language": "python",
   "name": "python3"
  },
  "language_info": {
   "codemirror_mode": {
    "name": "ipython",
    "version": 3
   },
   "file_extension": ".py",
   "mimetype": "text/x-python",
   "name": "python",
   "nbconvert_exporter": "python",
   "pygments_lexer": "ipython3",
   "version": "3.11.5"
  }
 },
 "nbformat": 4,
 "nbformat_minor": 5
}
