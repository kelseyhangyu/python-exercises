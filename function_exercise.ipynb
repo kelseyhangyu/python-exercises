{
 "cells": [
  {
   "cell_type": "markdown",
   "id": "e26c22aa",
   "metadata": {},
   "source": [
    "# Notes"
   ]
  },
  {
   "cell_type": "code",
   "execution_count": null,
   "id": "08e9d194",
   "metadata": {},
   "outputs": [],
   "source": [
    "max([4, 2, 3, 1])\n",
    "maximum_number = max([4, 2, 3, 1])\n",
    "print(maximum_number)\n"
   ]
  },
  {
   "cell_type": "code",
   "execution_count": null,
   "id": "413e885a",
   "metadata": {},
   "outputs": [],
   "source": [
    "print(f'The max is: {maximum_number}')\n",
    "print('The max is: ' + str(max([4, 2, 3, 1])))\n"
   ]
  },
  {
   "cell_type": "code",
   "execution_count": null,
   "id": "32eff2bd",
   "metadata": {},
   "outputs": [],
   "source": [
    "name = input('what is your name?')\n",
    "print(f'hello, nice to meet you {name}.')"
   ]
  },
  {
   "cell_type": "code",
   "execution_count": null,
   "id": "7680db5f",
   "metadata": {},
   "outputs": [],
   "source": [
    "min([1,2,3,4,-1])\n",
    "print('the min is:' + str(min([1,2,3,4,-1])))"
   ]
  },
  {
   "cell_type": "code",
   "execution_count": null,
   "id": "3031752d",
   "metadata": {},
   "outputs": [],
   "source": [
    "def add(n):\n",
    "    return n + 1\n",
    "six = add(add(add(add(2)))*2)\n",
    "print(six)\n"
   ]
  },
  {
   "cell_type": "code",
   "execution_count": null,
   "id": "92d8e969",
   "metadata": {},
   "outputs": [],
   "source": [
    "def increment(n):\n",
    "    return n + 1\n",
    "    print('You will never see this')\n",
    "    return n + 1\n",
    "\n",
    "increment(3)\n"
   ]
  },
  {
   "cell_type": "code",
   "execution_count": null,
   "id": "2089760b",
   "metadata": {},
   "outputs": [],
   "source": [
    "def add(a, b): #a , b are the parameters\n",
    "\n",
    "    return a + b\n",
    "\n",
    "x = 300\n",
    "seven = add(x, 4)\n",
    "print(seven)"
   ]
  },
  {
   "cell_type": "code",
   "execution_count": null,
   "id": "f282d2f8",
   "metadata": {},
   "outputs": [],
   "source": [
    "def shout(message):\n",
    "    print(message.upper() + '!!!')\n",
    "\n",
    "return_value = shout('hey there')\n",
    "\n",
    "print(return_value)\n"
   ]
  },
  {
   "cell_type": "code",
   "execution_count": null,
   "id": "685967b4",
   "metadata": {},
   "outputs": [],
   "source": [
    "def shout(message):\n",
    "    return message.upper() + '!!!'\n",
    "\n",
    "a = shout('hey there')\n",
    "\n",
    "\n",
    "print(a)"
   ]
  },
  {
   "cell_type": "code",
   "execution_count": null,
   "id": "9cc97cc1",
   "metadata": {},
   "outputs": [],
   "source": [
    "def sayhello(name='World', greeting='Hello', gender = 'x', race = 'l'):\n",
    "    return f'{greeting}, {gender}, {race}, {name} !'\n"
   ]
  },
  {
   "cell_type": "code",
   "execution_count": null,
   "id": "b6e943cf",
   "metadata": {},
   "outputs": [],
   "source": [
    "a = ['u','r','bu','teful']\n",
    "sayhello(*a) #Use*operator to treat each element in the list as an argument to the function.\n"
   ]
  },
  {
   "cell_type": "code",
   "execution_count": null,
   "id": "d4b39637",
   "metadata": {},
   "outputs": [],
   "source": [
    "sayhello('kels',greeting = 'sup' )\n"
   ]
  },
  {
   "cell_type": "markdown",
   "id": "af452f31",
   "metadata": {},
   "source": [
    "# local vs global variables"
   ]
  },
  {
   "cell_type": "code",
   "execution_count": null,
   "id": "6545690d",
   "metadata": {},
   "outputs": [],
   "source": [
    "a_global_variable = 42\n",
    "\n",
    "def somefunction():\n",
    "    print(f\"Inside the function: {a_global_variable}\")\n"
   ]
  },
  {
   "cell_type": "code",
   "execution_count": null,
   "id": "a9db5253",
   "metadata": {},
   "outputs": [],
   "source": [
    "somefunction()"
   ]
  },
  {
   "cell_type": "code",
   "execution_count": null,
   "id": "631c2696",
   "metadata": {},
   "outputs": [],
   "source": [
    "print('Outside the function: %s' % a_global_variable)\n"
   ]
  },
  {
   "cell_type": "code",
   "execution_count": null,
   "id": "db35d948",
   "metadata": {},
   "outputs": [],
   "source": [
    "a_local_variable = 'zza'\n",
    "\n",
    "def somefunction():\n",
    "    a_local_variable = 'pizza'\n",
    "    print('Inside the function: %s' % a_local_variable)\n",
    "\n",
    "somefunction()\n",
    "print(a_local_variable)"
   ]
  },
  {
   "cell_type": "code",
   "execution_count": null,
   "id": "c87302b3",
   "metadata": {},
   "outputs": [],
   "source": [
    "def add(a, b):\n",
    "    result = a + b\n",
    "    return result, a, b\n",
    "\n",
    "q = add(1,2)\n"
   ]
  },
  {
   "cell_type": "markdown",
   "id": "221b88a9",
   "metadata": {},
   "source": [
    "# Exercises #"
   ]
  },
  {
   "cell_type": "markdown",
   "id": "8144e935",
   "metadata": {},
   "source": [
    "1. Define a function named is_two. It should accept one input and return True if the passed input is either the number or the string 2, False otherwise."
   ]
  },
  {
   "cell_type": "code",
   "execution_count": null,
   "id": "08723206",
   "metadata": {},
   "outputs": [],
   "source": [
    "def is_two(input_value):\n",
    "    return input_value == 2 or input_value == '2'\n",
    "\n",
    "is_two(3)"
   ]
  },
  {
   "cell_type": "markdown",
   "id": "bc3e8dea",
   "metadata": {},
   "source": [
    "2. Define a function named is_vowel. It should return True if the passed string is a vowel, False otherwise."
   ]
  },
  {
   "cell_type": "code",
   "execution_count": null,
   "id": "c979f863",
   "metadata": {},
   "outputs": [],
   "source": [
    "def is_vowel(string):\n",
    "    return True if string.lower() in ['a','e','i','o','u'] else False\n",
    "\n",
    "is_vowel('b')"
   ]
  },
  {
   "cell_type": "markdown",
   "id": "075aebdc",
   "metadata": {},
   "source": [
    "3. Define a function named is_consonant. It should return True if the passed string is a consonant, False otherwise. Use your is_vowel function to accomplish this.\n"
   ]
  },
  {
   "cell_type": "code",
   "execution_count": null,
   "id": "29ab5654",
   "metadata": {},
   "outputs": [],
   "source": [
    "def is_consonant(string):\n",
    "    return True if string.lower() not in ['a','e','i','o','u'] else False\n",
    "\n",
    "is_consonant('b')"
   ]
  },
  {
   "cell_type": "markdown",
   "id": "515fc468",
   "metadata": {},
   "source": [
    "4. Define a function that accepts a string that is a word. The function should capitalize the first letter of the word if the word starts with a consonant."
   ]
  },
  {
   "cell_type": "code",
   "execution_count": null,
   "id": "9bf7a112",
   "metadata": {},
   "outputs": [],
   "source": [
    "consonants = ['b', 'c', 'd', 'f', 'g', 'h', 'j', 'k', 'l', 'm', 'n', 'p', 'q', 'r', 's', 't', 'v', 'w', 'x', 'y', 'z']\n",
    "def accept(string):\n",
    "    if string[0] in consonants:\n",
    "        return string[0].upper() + string[1:]\n",
    "    else:\n",
    "        return string\n",
    "accept('pear')   \n",
    "    "
   ]
  },
  {
   "cell_type": "markdown",
   "id": "b6a20e81",
   "metadata": {},
   "source": [
    "5. Define a function named calculate_tip. It should accept a tip percentage (a number between 0 and 1) and the bill total, and return the amount to tip."
   ]
  },
  {
   "cell_type": "code",
   "execution_count": null,
   "id": "52f58287",
   "metadata": {},
   "outputs": [],
   "source": [
    "def calculate_tip(tip_percentage, bill):\n",
    "    tip = tip_percentage * bill\n",
    "    return tip\n",
    "\n",
    "calculate_tip(0.1,10)"
   ]
  },
  {
   "cell_type": "markdown",
   "id": "8bd70c54",
   "metadata": {},
   "source": [
    "6. Define a function named apply_discount. It should accept a original price, and a discount percentage, and return the price after the discount is applied."
   ]
  },
  {
   "cell_type": "code",
   "execution_count": null,
   "id": "37a5e767",
   "metadata": {},
   "outputs": [],
   "source": [
    "def apply_discount(og_price, dis_per):\n",
    "    final_price = og_price * (1 - dis_per)\n",
    "    return round(final_price,2)\n",
    "apply_discount (101,0.13)"
   ]
  },
  {
   "cell_type": "markdown",
   "id": "c1fe02f4",
   "metadata": {},
   "source": [
    "7. Define a function named handle_commas. It should accept a string that is a number that contains commas in it as input, and return a number as output.\n"
   ]
  },
  {
   "cell_type": "code",
   "execution_count": null,
   "id": "d3c67ccb",
   "metadata": {},
   "outputs": [],
   "source": [
    "def handle_commas(number,):\n",
    "    return int(number)\n",
    "\n",
    "handle_commas(2,)"
   ]
  },
  {
   "cell_type": "markdown",
   "id": "aa176b98",
   "metadata": {},
   "source": [
    "8. Define a function named get_letter_grade. It should accept a number and return the letter grade associated with that number (A-F)."
   ]
  },
  {
   "cell_type": "code",
   "execution_count": 2,
   "id": "26c81f18",
   "metadata": {},
   "outputs": [
    {
     "name": "stdout",
     "output_type": "stream",
     "text": [
      "A\n"
     ]
    }
   ],
   "source": [
    "def get_letter_grade(number):\n",
    "    if number >= 90:\n",
    "        print(\"A\")\n",
    "    elif number >= 80:\n",
    "        print(\"B\")\n",
    "    elif number >=70:\n",
    "        print('C')\n",
    "    elif number >= 60:\n",
    "        print('D')\n",
    "    else:\n",
    "        print('F')\n",
    "    \n",
    "get_letter_grade(100)  \n",
    "    "
   ]
  },
  {
   "cell_type": "markdown",
   "id": "746d8b04",
   "metadata": {},
   "source": [
    "# ? 9. Define a function named remove_vowels that accepts a string and returns a string with all the vowels removed."
   ]
  },
  {
   "cell_type": "code",
   "execution_count": 9,
   "id": "83a04b37",
   "metadata": {},
   "outputs": [
    {
     "data": {
      "text/plain": [
       "True"
      ]
     },
     "execution_count": 9,
     "metadata": {},
     "output_type": "execute_result"
    }
   ],
   "source": [
    "vowels = ['a','e','i','o','u']\n",
    "def remove_vowels(string):\n",
    "    result = string not in vowels\n",
    "    return result\n",
    "    \n",
    "remove_vowels('apple')\n",
    "    "
   ]
  },
  {
   "cell_type": "markdown",
   "id": "ce6f3bdc",
   "metadata": {},
   "source": [
    "10. Define a function named normalize_name. It should accept a string and return a valid python identifier, that is:\n",
    "\n",
    "- anything that is not a valid python identifier should be removed\n",
    "- leading and trailing whitespace should be removed\n",
    "- everything should be lowercase\n",
    "- spaces should be replaced with underscores\n",
    "\n",
    "for example:\n",
    "- Name will become name\n",
    "- First Name will become first_name\n",
    "- % Completed will become completed\n"
   ]
  },
  {
   "cell_type": "code",
   "execution_count": null,
   "id": "889cedf9",
   "metadata": {},
   "outputs": [],
   "source": [
    "def normalize_name(string)"
   ]
  },
  {
   "cell_type": "markdown",
   "id": "aeea1c02",
   "metadata": {},
   "source": [
    "11. Write a function named cumulative_sum that accepts a list of numbers and returns a list that is the cumulative sum of the numbers in the list.\n",
    "\n",
    "- cumulative_sum([1, 1, 1]) returns [1, 2, 3]\n",
    "- cumulative_sum([1, 2, 3, 4]) returns [1, 3, 6, 10]"
   ]
  },
  {
   "cell_type": "code",
   "execution_count": null,
   "id": "dd179b79",
   "metadata": {},
   "outputs": [],
   "source": []
  },
  {
   "cell_type": "code",
   "execution_count": null,
   "id": "e0c5ec53",
   "metadata": {},
   "outputs": [],
   "source": []
  },
  {
   "cell_type": "code",
   "execution_count": null,
   "id": "071f02f1",
   "metadata": {},
   "outputs": [],
   "source": []
  },
  {
   "cell_type": "code",
   "execution_count": null,
   "id": "421ac3ce",
   "metadata": {},
   "outputs": [],
   "source": []
  }
 ],
 "metadata": {
  "kernelspec": {
   "display_name": "Python 3 (ipykernel)",
   "language": "python",
   "name": "python3"
  },
  "language_info": {
   "codemirror_mode": {
    "name": "ipython",
    "version": 3
   },
   "file_extension": ".py",
   "mimetype": "text/x-python",
   "name": "python",
   "nbconvert_exporter": "python",
   "pygments_lexer": "ipython3",
   "version": "3.11.5"
  }
 },
 "nbformat": 4,
 "nbformat_minor": 5
}
