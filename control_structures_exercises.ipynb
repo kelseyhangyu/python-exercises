{
 "cells": [
  {
   "cell_type": "markdown",
   "id": "63b67d01",
   "metadata": {},
   "source": [
    "# to complete an if statement\n",
    "- the keyword if\n",
    "- a condition that evaluates to a boolean value followed by a colon (:)\n",
    "- the body of the statement indented by 4 spaces"
   ]
  },
  {
   "cell_type": "markdown",
   "id": "672ce43a",
   "metadata": {},
   "source": [
    "# Lecture notes #\n",
    "- code execute from top to bottom\n",
    "- require indentation for if conditions after the colon:\n",
    "- loops are very important\n",
    "   - for loop: run a block of code set a number of times, use with IN, use with iterables like lists/strings\n",
    "    - generates everything inside of that string/list\n",
    "    - for 'item' in 'sequence':\n",
    "           #\n",
    "           #\n",
    "   - while loop: run until a condition is met\n",
    "\n"
   ]
  },
  {
   "cell_type": "code",
   "execution_count": null,
   "id": "b766988e",
   "metadata": {},
   "outputs": [],
   "source": [
    "pets = ['cat','dog','rabbit']\n",
    "days_owned = 10\n",
    "for pet in pets:\n",
    "    days_owned -=1\n",
    "print(days_owned)"
   ]
  },
  {
   "cell_type": "code",
   "execution_count": null,
   "id": "14ea26d5",
   "metadata": {},
   "outputs": [],
   "source": [
    "i_like_coffee = False\n",
    "\n",
    "if i_like_coffee:\n",
    "    print('I like coffee!')\n",
    "    print('Coffee is the best!')\n",
    "elif not i_like_coffee:\n",
    "    print (\"I don't like coffee\")\n",
    "else:\n",
    "    print('else')\n",
    "    "
   ]
  },
  {
   "cell_type": "code",
   "execution_count": null,
   "id": "aad405e4",
   "metadata": {},
   "outputs": [],
   "source": [
    "it_is_raining = True\n",
    "\n",
    "if it_is_raining:\n",
    "    print('Better bring an umbrella!')\n",
    "else:\n",
    "    print('Looks like a nice, sunny day!')\n"
   ]
  },
  {
   "cell_type": "code",
   "execution_count": null,
   "id": "cabaa850",
   "metadata": {},
   "outputs": [],
   "source": [
    "coffee_preference = 'medium'\n",
    "\n",
    "if coffee_preference == 'dark':\n",
    "    print('I love a good dark roast!')\n",
    "elif coffee_preference == 'medium':\n",
    "    print('Middle of the road, huh?')\n",
    "elif coffee_preference == 'light':\n",
    "    print('Light roast has the most caffeine!')\n",
    "else:\n",
    "    print('How about some tea then?')\n"
   ]
  },
  {
   "cell_type": "code",
   "execution_count": null,
   "id": "35c2a974",
   "metadata": {},
   "outputs": [],
   "source": [
    "name = ['a','b','c']\n",
    "f'Hello {name}!'\n"
   ]
  },
  {
   "cell_type": "code",
   "execution_count": null,
   "id": "4ae46943",
   "metadata": {},
   "outputs": [],
   "source": [
    "for number in range(1, 4):\n",
    "    print(number)"
   ]
  },
  {
   "cell_type": "code",
   "execution_count": null,
   "id": "a8639663",
   "metadata": {},
   "outputs": [],
   "source": [
    "for letter in 'abcde':\n",
    "    print(letter)"
   ]
  },
  {
   "cell_type": "code",
   "execution_count": null,
   "id": "c5af1d10",
   "metadata": {},
   "outputs": [],
   "source": [
    "languages = ['bash', 'python', 'R', 'clojure']\n",
    "\n",
    "for i in languages:\n",
    "    print(f'{i} is a nice programming language')"
   ]
  },
  {
   "cell_type": "code",
   "execution_count": null,
   "id": "040fa720",
   "metadata": {},
   "outputs": [],
   "source": [
    "for programming_language in languages:\n",
    "    if programming_language == 'python':\n",
    "        print(f'{programming_language} is my favorite!')\n",
    "    else:\n",
    "        print(f'{programming_language} is a nice programming language')\n"
   ]
  },
  {
   "cell_type": "code",
   "execution_count": 12,
   "id": "0952b35b",
   "metadata": {},
   "outputs": [
    {
     "data": {
      "text/plain": [
       "[0, 4, 8, 12, 16]"
      ]
     },
     "execution_count": 12,
     "metadata": {},
     "output_type": "execute_result"
    }
   ],
   "source": [
    "[ i for i in range (0,10)] #range (10) means from 0 to 10\n",
    "[n * 2 for n in range(10)]\n",
    "[n * 2 for n in range(10) if n % 2 == 0]"
   ]
  },
  {
   "cell_type": "code",
   "execution_count": 13,
   "id": "c318bee9",
   "metadata": {},
   "outputs": [
    {
     "data": {
      "text/plain": [
       "[0, 2, 4, 6, 8, 10, 12, 14, 16, 18]"
      ]
     },
     "execution_count": 13,
     "metadata": {},
     "output_type": "execute_result"
    }
   ],
   "source": [
    "[n * 2 for n in range(10)]"
   ]
  },
  {
   "cell_type": "code",
   "execution_count": 29,
   "id": "27443fcd",
   "metadata": {},
   "outputs": [
    {
     "data": {
      "text/plain": [
       "[0, 4, 8, 12, 16]"
      ]
     },
     "execution_count": 29,
     "metadata": {},
     "output_type": "execute_result"
    }
   ],
   "source": [
    "[n * 2 for n in range(10) if n % 2 == 0] #execute 1st \"for\", 2nd the \"if\", lastly the n*2"
   ]
  },
  {
   "cell_type": "code",
   "execution_count": 24,
   "id": "41535ce1",
   "metadata": {},
   "outputs": [
    {
     "name": "stdout",
     "output_type": "stream",
     "text": [
      "5\n",
      "6\n",
      "7\n",
      "8\n",
      "9\n",
      "10\n"
     ]
    }
   ],
   "source": [
    "# while loop is not commonly used and is encouraged to be avoided.\n",
    "i = 5\n",
    "while i <= 10: #the condition to stop the loop. unless this condition becomes false, the loop would run infinitely\n",
    "    print(i)\n",
    "    i += 1\n"
   ]
  },
  {
   "cell_type": "code",
   "execution_count": 23,
   "id": "25988633",
   "metadata": {},
   "outputs": [
    {
     "name": "stdout",
     "output_type": "stream",
     "text": [
      "6\n",
      "7\n",
      "8\n",
      "9\n",
      "10\n",
      "11\n"
     ]
    }
   ],
   "source": [
    "i = 5\n",
    "while i <= 10: #the condition to stop the loop\n",
    "    i += 1\n",
    "    print(i)\n"
   ]
  },
  {
   "cell_type": "code",
   "execution_count": 38,
   "id": "da4b7762",
   "metadata": {},
   "outputs": [
    {
     "name": "stdout",
     "output_type": "stream",
     "text": [
      "0\n",
      "1\n",
      "2\n",
      "3\n",
      "4\n",
      "5\n",
      "6\n",
      "7\n",
      "8\n",
      "9\n",
      "10\n",
      "11\n"
     ]
    }
   ],
   "source": [
    "for n in range(100_000):\n",
    "    print(n)\n",
    "    if n > 10:\n",
    "        break"
   ]
  },
  {
   "cell_type": "code",
   "execution_count": 44,
   "id": "ab2f671c",
   "metadata": {},
   "outputs": [
    {
     "name": "stdout",
     "output_type": "stream",
     "text": [
      "Here is an odd number: 1\n",
      "Here is an odd number: 3\n",
      "Here is an odd number: 5\n",
      "Here is an odd number: 7\n",
      "Here is an odd number: 9\n"
     ]
    }
   ],
   "source": [
    "for n in range(10):\n",
    "    if n % 2 == 0:\n",
    "        continue #means to skip this number that meets the above condition\n",
    "    print(f'Here is an odd number: {n}')\n"
   ]
  },
  {
   "cell_type": "code",
   "execution_count": 41,
   "id": "e79b4a6f",
   "metadata": {},
   "outputs": [
    {
     "name": "stdout",
     "output_type": "stream",
     "text": [
      "age average: 29.00\n",
      "is_vegetarian is not numeric, skipping\n",
      "shoe size average: 8.86\n",
      "ISP is not numeric, skipping\n",
      "BMI average: 23.90\n"
     ]
    }
   ],
   "source": [
    "dataset = [{'name': 'age', 'type': 'int', 'data': [20, 25, 43, 11, 15, 53, 36]},\n",
    "           {'name': 'is_vegetarian', 'type': 'boolean', 'data': [False, True, False, False, True, False, False]},\n",
    "           {'name': 'shoe size', 'type': 'int', 'data': [8, 11, 7, 10, 7, 9, 10]},\n",
    "           {'name': 'ISP', 'type': 'categorical', 'data': ['AT&T', 'Spectrum', 'Spectrum', 'Spectrum', 'AT&T', 'Spectrum', 'AT&T']},\n",
    "           {'name': 'BMI', 'type': 'float', 'data': [29.9, 20.4, 23.3, 21.7, 22.2, 22.8, 27.0]}]\n",
    "\n",
    "# print the means for the numeric data\n",
    "for i in dataset:\n",
    "    if i ['type'] == 'categorical' or i['type'] == 'boolean':\n",
    "        print(f\"{i['name']} is not numeric, skipping\")\n",
    "        continue \n",
    "    avg = sum(i['data']) / len(i['data'])\n",
    "    print(f\"{i['name']} average: {avg:.2f}\") # the :.2f formats the decimal to 2 places.\n"
   ]
  },
  {
   "cell_type": "markdown",
   "id": "689a2ae4",
   "metadata": {},
   "source": [
    "# EXERCISES #"
   ]
  },
  {
   "cell_type": "markdown",
   "id": "5b6d91b3",
   "metadata": {},
   "source": [
    "1. Conditional Basics\n",
    "\n",
    "     a. Prompt the user for a day of the week, print out whether the day is Monday or not\n",
    "\n",
    "     b. Prompt the user for a day of the week, print out whether the day is a weekday or a weekend\n",
    "\n",
    "     c. Calculate a weekly paycheck, accounting for overtime pay. Create variables and make up values for:\n",
    "\n",
    "       - The number of hours worked in one week\n",
    "       - The hourly rate\n",
    "    \n",
    "    For calculating pay:\n",
    "\n",
    "       - For working 40 hours or less, each hour is paid at the hourly rate\n",
    "       - For working more than 40 hours\n",
    "\n",
    "          - the first 40 hours are paid at the hourly rate\n",
    "          - each hour after 40 is paid at time and a half (hourly rate * 1.5)"
   ]
  },
  {
   "cell_type": "code",
   "execution_count": 50,
   "id": "6cd2cdb9",
   "metadata": {},
   "outputs": [
    {
     "name": "stdout",
     "output_type": "stream",
     "text": [
      "Monday\n",
      "not Monday\n",
      "not Monday\n",
      "not Monday\n",
      "not Monday\n",
      "not Monday\n",
      "not Monday\n"
     ]
    }
   ],
   "source": [
    "#a. Prompt the user for a day of the week, print out whether the day is Monday or not\n",
    "for user_day in ['Monday','Tuesday','Wednesday','Thursday','Friday','Saturday','Sunday']:\n",
    "    if user_day == 'Monday':\n",
    "        print ('Monday')\n",
    "    else:\n",
    "        print('not Monday')"
   ]
  },
  {
   "cell_type": "code",
   "execution_count": 53,
   "id": "7141d839",
   "metadata": {},
   "outputs": [
    {
     "name": "stdout",
     "output_type": "stream",
     "text": [
      "weekday\n",
      "weekday\n",
      "weekday\n",
      "weekday\n",
      "weekday\n",
      "weekend\n",
      "weekend\n"
     ]
    }
   ],
   "source": [
    "#b Prompt the user for a day of the week, print out whether the day is a weekday or a weekend\n",
    "for user_day in ['Monday','Tuesday','Wednesday','Thursday','Friday','Saturday','Sunday']:\n",
    "    if user_day == 'Saturday' or user_day == 'Sunday':\n",
    "        print ('weekend')\n",
    "    else:\n",
    "        print('weekday')"
   ]
  },
  {
   "cell_type": "code",
   "execution_count": 69,
   "id": "ff53dc17",
   "metadata": {},
   "outputs": [
    {
     "name": "stdout",
     "output_type": "stream",
     "text": [
      "1900.0\n"
     ]
    }
   ],
   "source": [
    "# C\n",
    "hourly_rate = 40\n",
    "hour = 45\n",
    "if hour <= 40:\n",
    "    pay = hourly_rate * hour \n",
    "else:\n",
    "    pay = 1.5 * hourly_rate * (hour - 40) + 40 * hourly_rate \n",
    "weekly_pay = pay\n",
    "print(weekly_pay)\n"
   ]
  },
  {
   "cell_type": "markdown",
   "id": "e6af7e89",
   "metadata": {},
   "source": [
    "2. Loop Basics\n",
    "\n",
    "   a. While\n",
    "\n",
    "      i. Create an integer variable i with a value of 5. Create a while loop that runs so long as i is less than or equal to 15. Each loop iteration, output the current value of i, then increment i by one.\n"
   ]
  },
  {
   "cell_type": "code",
   "execution_count": 70,
   "id": "79b6a988",
   "metadata": {},
   "outputs": [
    {
     "name": "stdout",
     "output_type": "stream",
     "text": [
      "5\n",
      "6\n",
      "7\n",
      "8\n",
      "9\n",
      "10\n",
      "11\n",
      "12\n",
      "13\n",
      "14\n",
      "15\n"
     ]
    }
   ],
   "source": [
    "i = 5\n",
    "while i <= 15:\n",
    "    print(i)\n",
    "    i += 1"
   ]
  },
  {
   "cell_type": "code",
   "execution_count": null,
   "id": "3e834746",
   "metadata": {},
   "outputs": [],
   "source": [
    "# i. Create a while loop that will count by 2's starting with 0 and ending at 100. Follow each number with a new line.\n",
    "\n",
    "i = 0\n",
    "while i <= 100:\n",
    "    print (i)\n",
    "    i+= 2"
   ]
  },
  {
   "cell_type": "markdown",
   "id": "ac594977",
   "metadata": {},
   "source": [
    " Create a while loop that starts at 2, and displays the number squared on each line while the number is less than 1,000,000. "
   ]
  },
  {
   "cell_type": "code",
   "execution_count": 80,
   "id": "8a73ebaf",
   "metadata": {},
   "outputs": [
    {
     "name": "stdout",
     "output_type": "stream",
     "text": [
      "2\n",
      "4\n",
      "16\n",
      "256\n",
      "65536\n"
     ]
    }
   ],
   "source": [
    "i = 2\n",
    "while i < 1000000:\n",
    "    print (i)\n",
    "    i = i ** 2"
   ]
  },
  {
   "cell_type": "code",
   "execution_count": 81,
   "id": "ebddf1dc",
   "metadata": {},
   "outputs": [
    {
     "name": "stdout",
     "output_type": "stream",
     "text": [
      "100\n",
      "95\n",
      "90\n",
      "85\n",
      "80\n",
      "75\n",
      "70\n",
      "65\n",
      "60\n",
      "55\n",
      "50\n",
      "45\n",
      "40\n",
      "35\n",
      "30\n",
      "25\n",
      "20\n",
      "15\n",
      "10\n",
      "5\n"
     ]
    }
   ],
   "source": [
    "#Write a while loop that uses print to create the output shown below.\n",
    "\n",
    "i = 100\n",
    "while i >= 5:\n",
    "    print(i)\n",
    "    i-=5\n",
    "    "
   ]
  },
  {
   "cell_type": "markdown",
   "id": "618e5b38",
   "metadata": {},
   "source": [
    "b. For Loops\n",
    "\n",
    "   i.Write some code using a for loop that prompts the user for a number, then shows a multiplication table up through 10 for that number."
   ]
  },
  {
   "cell_type": "code",
   "execution_count": 83,
   "id": "fa043892",
   "metadata": {},
   "outputs": [
    {
     "name": "stdout",
     "output_type": "stream",
     "text": [
      "Enter a integer: 9999\n",
      "9999 x 1 = 9999\n",
      "9999 x 2 = 19998\n",
      "9999 x 3 = 29997\n",
      "9999 x 4 = 39996\n",
      "9999 x 5 = 49995\n",
      "9999 x 6 = 59994\n",
      "9999 x 7 = 69993\n",
      "9999 x 8 = 79992\n",
      "9999 x 9 = 89991\n",
      "9999 x 10 = 99990\n"
     ]
    }
   ],
   "source": [
    "# Prompt the user for a number\n",
    "number = int(input(\"Enter a integer: \"))\n",
    "\n",
    "# Display the multiplication table up to 10\n",
    "for i in range(1, 11):\n",
    "    result = number * i\n",
    "    print(f\"{number} x {i} = {result}\")\n"
   ]
  },
  {
   "cell_type": "code",
   "execution_count": 84,
   "id": "eefffdff",
   "metadata": {},
   "outputs": [
    {
     "name": "stdout",
     "output_type": "stream",
     "text": [
      "1\n",
      "22\n",
      "333\n",
      "4444\n",
      "55555\n",
      "666666\n",
      "7777777\n",
      "88888888\n",
      "999999999\n"
     ]
    }
   ],
   "source": [
    "# Create a for loop that uses print to create the output shown below.\n",
    "for i in range(1,10):\n",
    "    print(str(i) * i)\n"
   ]
  },
  {
   "cell_type": "markdown",
   "id": "93db162e",
   "metadata": {},
   "source": [
    "C. break and continue\n",
    "\n",
    " -- i.Write a program that prompts the user for a positive integer. Next write a loop that prints out the numbers from the number the user entered down to 1."
   ]
  },
  {
   "cell_type": "code",
   "execution_count": 102,
   "id": "293b120a",
   "metadata": {},
   "outputs": [
    {
     "name": "stdout",
     "output_type": "stream",
     "text": [
      "Enter a positive integer: 3\n",
      "3\n",
      "2\n",
      "1\n"
     ]
    }
   ],
   "source": [
    "number = int(input(\"Enter a positive integer: \"))\n",
    "\n",
    "if number >= 1:\n",
    "    while number >= 1:\n",
    "        print(number)\n",
    "        number -= 1\n",
    "else:\n",
    "    print('Please enter a valid positive integer.')\n",
    "    number = int(input(\"Enter a positive integer: \"))\n"
   ]
  },
  {
   "cell_type": "markdown",
   "id": "8d804b43",
   "metadata": {},
   "source": [
    "- ii. The input function can be used to prompt for input and use that input in your python code. Prompt the user to enter a positive number and write a loop that counts from 0 to that number. (Hints: note that the input function returns a string, so you'll need to convert this to a numeric type.)"
   ]
  },
  {
   "cell_type": "code",
   "execution_count": 105,
   "id": "e846aacf",
   "metadata": {},
   "outputs": [
    {
     "name": "stdout",
     "output_type": "stream",
     "text": [
      "Enter a positive integer: 10\n",
      "10\n",
      "9\n",
      "8\n",
      "7\n",
      "6\n",
      "5\n",
      "4\n",
      "3\n",
      "2\n",
      "1\n",
      "0\n"
     ]
    }
   ],
   "source": [
    "i = int(input(\"Enter a positive integer: \"))\n",
    "\n",
    "while i >= 0:\n",
    "    print(i)\n",
    "    i-=1\n",
    "    \n",
    "\n",
    "\n"
   ]
  },
  {
   "cell_type": "code",
   "execution_count": 127,
   "id": "c9b1eb8e",
   "metadata": {},
   "outputs": [
    {
     "name": "stdout",
     "output_type": "stream",
     "text": [
      "Enter an odd number between 1 and 50: 4\n",
      "Invalid input. Please enter an odd number between 1 and 50\n",
      "Enter an odd number between 1 and 50: -1\n",
      "Invalid input. Please enter an odd number between 1 and 50\n",
      "Enter an odd number between 1 and 50: 1\n"
     ]
    }
   ],
   "source": [
    "#Prompt the user for an odd number between 1 and 50. \n",
    "#Use a loop and a break statement to continue prompting the user if they enter invalid input. \n",
    "#(Hint: use the isdigit method on strings to determine this).\n",
    "\n",
    "while True:\n",
    "    number = int(input(\"Enter an odd number between 1 and 50: \"))\n",
    "    if number % 2 != 0 and 1 <= number <= 50 :\n",
    "        break  # Exit the loop if valid input\n",
    "    else:\n",
    "        print(\"Invalid input. Please enter an odd number between 1 and 50\")\n",
    "\n",
    "    \n",
    "\n",
    "\n",
    "\n",
    "\n"
   ]
  },
  {
   "cell_type": "code",
   "execution_count": 148,
   "id": "67aa06be",
   "metadata": {},
   "outputs": [
    {
     "name": "stdout",
     "output_type": "stream",
     "text": [
      "Enter a number between 1 and 50: 3\n",
      "1\n",
      "5\n",
      "7\n",
      "9\n",
      "11\n",
      "13\n",
      "15\n",
      "17\n",
      "19\n",
      "21\n",
      "23\n",
      "25\n",
      "27\n",
      "29\n",
      "31\n",
      "33\n",
      "35\n",
      "37\n",
      "39\n",
      "41\n",
      "43\n",
      "45\n",
      "47\n",
      "49\n"
     ]
    }
   ],
   "source": [
    "# Use a loop and the continue statement to output all the odd numbers between 1 and 50, \n",
    "# except for the number the user entered.\n",
    "\n",
    "user_input = int(input(\"Enter a number between 1 and 50: \"))\n",
    "\n",
    "if 1 <= user_input <= 50 and user_input % 2 != 0:\n",
    "    for number in range(1, 51):\n",
    "        if number == user_input:\n",
    "            continue  # Skip the user-entered number\n",
    "        if number % 2 != 0:\n",
    "            print(number)\n",
    "else:\n",
    "    print(\"Invalid input. Please enter a valid odd number between 1 and 50.\")\n",
    "\n",
    "    "
   ]
  },
  {
   "cell_type": "markdown",
   "id": "bf0551e7",
   "metadata": {},
   "source": [
    "# 3.Fizzbuzz\n",
    "\n",
    "One of the most common interview questions for entry-level programmers is the FizzBuzz test. Developed by Imran Ghory, the test is designed to test basic looping and conditional logic skills.\n",
    "\n",
    "- Write a program that prints the numbers from 1 to 100.\n",
    "- For multiples of three print \"Fizz\" instead of the number\n",
    "- For the multiples of five print \"Buzz\".\n",
    "- For numbers which are multiples of both three and five print \"FizzBuzz\".\n"
   ]
  },
  {
   "cell_type": "code",
   "execution_count": null,
   "id": "ef190930",
   "metadata": {},
   "outputs": [],
   "source": [
    "for i in range (1,101):\n",
    "    print (i)"
   ]
  },
  {
   "cell_type": "code",
   "execution_count": null,
   "id": "95537f16",
   "metadata": {},
   "outputs": [],
   "source": [
    "for i in range (1,101):\n",
    "    if i%3==0:\n",
    "        print ('Fizz')\n",
    "    else:\n",
    "        print(i)"
   ]
  },
  {
   "cell_type": "code",
   "execution_count": null,
   "id": "3f5ad3d1",
   "metadata": {},
   "outputs": [],
   "source": [
    "for i in range (1,101):\n",
    "    if i%5==0:\n",
    "        print ('Buzz')\n",
    "    else:\n",
    "        print(i)"
   ]
  },
  {
   "cell_type": "code",
   "execution_count": null,
   "id": "17f2af9b",
   "metadata": {},
   "outputs": [],
   "source": [
    "for i in range (1,101):\n",
    "    if i%3==0 and i%5==0:\n",
    "        print ('FizzBuzz')\n",
    "    else:\n",
    "        print(i)"
   ]
  },
  {
   "cell_type": "markdown",
   "id": "dab3efd8",
   "metadata": {},
   "source": [
    "# 4.Display a table of powers.\n",
    "\n",
    "- Prompt the user to enter an integer\n",
    "- Display a table of squares and cubes from 1 to the value entered\n",
    "- Ask if the user wants to continue\n",
    "- Assume that the user will enter valid data\n",
    "- Only continue if the user agrees to"
   ]
  },
  {
   "cell_type": "code",
   "execution_count": null,
   "id": "d8db9162",
   "metadata": {},
   "outputs": [],
   "source": [
    "n = int(input('enter an integer:'))\n",
    "table = [{'number' = n},\n",
    "         {'squares'= n**2},\n",
    "         {'cubes' =  n**3}]\n",
    "print (table)\n"
   ]
  },
  {
   "cell_type": "code",
   "execution_count": null,
   "id": "c98a3748",
   "metadata": {},
   "outputs": [],
   "source": [
    "while True:\n",
    "    user_input = int(input(\"Enter an integer: \"))\n",
    "\n",
    "    # Print the header for the table\n",
    "    print(f\"{'Number':8}{'Square':8}{'Cube':8}\")\n",
    "    \n",
    "    \n",
    "    # Iterate from 1 to the entered value\n",
    "    for i in range(1, n + 1):\n",
    "        square = i ** 2\n",
    "        cube = i ** 3\n",
    "        print(f\"{i:<8}{square:<8}{cube:<8}\")\n",
    "\n",
    "    # Ask the user if they want to continue\n",
    "    response = input(\"Do you want to continue? (yes/no): \")\n",
    "\n",
    "    if response.lower() != 'yes':\n",
    "        break  # Exit the loop if the user doesn't want to continue\n"
   ]
  },
  {
   "cell_type": "markdown",
   "id": "9938b0aa",
   "metadata": {},
   "source": [
    "# 5.Convert given number grades into letter grades.\n",
    "\n",
    "- Prompt the user for a numerical grade from 0 to 100\n",
    "- Display the corresponding letter grade\n",
    "- Prompt the user to continue\n",
    "- Assume that the user will enter valid integers for the grades\n",
    "- The application should only continue if the user agrees to\n",
    "\n",
    "Grade Ranges:\n",
    "\n",
    "A : 100 - 88\n",
    "B : 87 - 80\n",
    "C : 79 - 67\n",
    "D : 66 - 60\n",
    "F : 59 - 0\n"
   ]
  },
  {
   "cell_type": "code",
   "execution_count": 191,
   "id": "53a95086",
   "metadata": {},
   "outputs": [
    {
     "name": "stdout",
     "output_type": "stream",
     "text": [
      "Type a numerical grade from 0 to 100:89\n",
      "A\n",
      "Do you want to continue? (yes/no): yes\n",
      "Type a numerical grade from 0 to 100:100\n",
      "A\n",
      "Do you want to continue? (yes/no): yes\n",
      "Type a numerical grade from 0 to 100:0\n",
      "F\n",
      "Do you want to continue? (yes/no): no\n",
      "Goodbye!\n"
     ]
    }
   ],
   "source": [
    "while True:\n",
    "    n = int(input('Type a numerical grade from 0 to 100:'))\n",
    "\n",
    "    if 88 <= n <= 100:\n",
    "        print('A')\n",
    "    elif 80 <= n <= 87:\n",
    "        print('B')\n",
    "    elif 67 <= n <= 79:\n",
    "        print('C')\n",
    "    elif 60 <= n <= 66:\n",
    "        print('D')\n",
    "    elif 0 <= n <= 59:\n",
    "        print('F')\n",
    "\n",
    "    response = input(\"Do you want to continue? (yes/no): \")\n",
    "\n",
    "    if response.lower() != 'yes':\n",
    "        print(\"Goodbye!\")\n",
    "        break\n"
   ]
  },
  {
   "cell_type": "markdown",
   "id": "9ccfff2c",
   "metadata": {},
   "source": [
    "# 6. \n",
    "- Create a list of dictionaries where each dictionary represents a book that you have read. Each dictionary in the list should have the keys title, author, and genre. Loop through the list and print out information about each book.\n",
    "\n",
    "- Prompt the user to enter a genre, then loop through your books list and print out the titles of all the books in that genre."
   ]
  },
  {
   "cell_type": "code",
   "execution_count": 195,
   "id": "81cd2d7c",
   "metadata": {},
   "outputs": [
    {
     "name": "stdout",
     "output_type": "stream",
     "text": [
      "Title: Impro: Improvisation and the Theatre\n",
      "Author: Keith Johnstone\n",
      "Genre: Art\n",
      "\n",
      "Title: Ignore Everybody\n",
      "Author: Hugh MacLeod\n",
      "Genre: Art\n",
      "\n",
      "Title: Born Standing Up\n",
      "Author: Steve Martin\n",
      "Genre: Biography\n",
      "\n",
      "Title: Just Kids\n",
      "Author: Patti Smith\n",
      "Genre: Biography\n",
      "\n",
      "Title: Intimations of Paradise\n",
      "Author: Christopher Burkett\n",
      "Genre: Art\n",
      "\n",
      "Title: The Count of Monte Cristo\n",
      "Author: Alexandre Dumas\n",
      "Genre: Fiction\n",
      "\n",
      "Title: To Kill a Mockingbird\n",
      "Author: Harper Lee\n",
      "Genre: Fiction\n",
      "\n",
      "Title: The Little Prince\n",
      "Author: Antoine de Saint-Exupery\n",
      "Genre: Fiction\n",
      "\n",
      "Title: Siddhartha\n",
      "Author: Herman Hesse\n",
      "Genre: Fiction\n",
      "\n",
      "Title: The Girl with the Dragon Tattoo\n",
      "Author: Stieg Larsson\n",
      "Genre: Fiction\n",
      "\n",
      "Title: Influence: The Psychology of Persuasion\n",
      "Author: Robert Cialdini\n",
      "Genre: Business\n",
      "\n",
      "Title: Fooled by Randomness\n",
      "Author: Nassim Nicholas Taleb\n",
      "Genre: Business\n",
      "\n",
      "Title: Breakthrough Advertising\n",
      "Author: Eugene Schwartz\n",
      "Genre: Business\n",
      "\n",
      "Title: How to Win Friends & Influence People\n",
      "Author: Dale Carnegie\n",
      "Genre: Business\n",
      "\n",
      "Title: The Power of Full Engagement\n",
      "Author: Jim Loehr\n",
      "Genre: Tony Schwartz\n",
      "\n",
      "Title: Starting Strength: Basic Barbell Training\n",
      "Author: Mark Rippetoe\n",
      "Genre: Fitness\n",
      "\n",
      "Title: You Are Your Own Gym: The Bible of Bodyweight Exercises\n",
      "Author: Mark Lauren\n",
      "Genre: Fitness\n",
      "\n",
      "Title: Strength Training Anatomy\n",
      "Author: Frederic Delavier\n",
      "Genre: Fitness\n",
      "\n",
      "Title: Sapiens: A Brief History of Humankind\n",
      "Author: Yuval Noah Harari\n",
      "Genre: History\n",
      "\n",
      "Title: Guns\n",
      "Author: Germs\n",
      "Genre: and Steel: The Fates of Human Societies\n",
      "\n",
      "Title: Manual for Living\n",
      "Author: Epictetus\n",
      "Genre: Philosophy\n",
      "\n",
      "Title: Meditations\n",
      "Author: Marcus Aurelius\n",
      "Genre: Philosophy\n",
      "\n",
      "Title: The Republic\n",
      "Author: Plato\n",
      "Genre: Philosophy\n",
      "\n",
      "Title: Thinking\n",
      "Author: Fast and Slow\n",
      "Genre: Daniel Kahneman\n",
      "\n",
      "Title: The Mysteries of Human Behavior\n",
      "Author: Mark Leary\n",
      "Genre: Psychology\n",
      "\n",
      "Title: The Power of Habit: Why We Do What We Do in Life and Business\n",
      "Author: Charles Duhigg\n",
      "Genre: Psychology\n",
      "\n",
      "Title: A Brief History of Time\n",
      "Author: Stephen Hawking\n",
      "Genre: Science\n",
      "\n",
      "Title: The Emperor of All Maladies: A Biography of Cancer\n",
      "Author: Siddhartha Mukherjee\n",
      "Genre: Science\n",
      "\n",
      "Title: Better: A Surgeon’s Notes on Performance\n",
      "Author: Atul Gawande\n",
      "Genre: Science\n",
      "\n",
      "Title: Breakthrough Advertising\n",
      "Author: Eugene Schwartz\n",
      "Genre: Writing\n",
      "\n",
      "Title: The Writer’s Journey: Mythic Structure for Writers\n",
      "Author: Christopher Vogler\n",
      "Genre: Writing\n",
      "\n",
      "Title: Bird by Bird\n",
      "Author: Anne Lamott\n",
      "Genre: Writing\n",
      "\n",
      "Enter a genre: Art\n",
      "Books in the Art genre:\n",
      "Impro: Improvisation and the Theatre\n",
      "Ignore Everybody\n",
      "Intimations of Paradise\n"
     ]
    }
   ],
   "source": [
    "# Create a list of dictionaries representing books\n",
    "books=[\n",
    " {\"title\":\"Impro: Improvisation and the Theatre\",\"author\":\"Keith Johnstone\",\"genre\":\"Art\"},\n",
    " {\"title\":\"Ignore Everybody\",\"author\":\"Hugh MacLeod\",\"genre\":\"Art\"},\n",
    " {\"title\":\"Born Standing Up\",\"author\":\"Steve Martin\",\"genre\":\"Biography\"},\n",
    " {\"title\":\"Just Kids\",\"author\":\"Patti Smith\",\"genre\":\"Biography\"},\n",
    " {\"title\":\"Intimations of Paradise\",\"author\":\"Christopher Burkett\",\"genre\":\"Art\"},\n",
    " {\"title\":\"The Count of Monte Cristo\",\"author\":\"Alexandre Dumas\",\"genre\":\"Fiction\"},\n",
    " {\"title\":\"To Kill a Mockingbird\",\"author\":\"Harper Lee\",\"genre\":\"Fiction\"},\n",
    " {\"title\":\"The Little Prince\",\"author\":\"Antoine de Saint-Exupery\",\"genre\":\"Fiction\"},\n",
    " {\"title\":\"Siddhartha\",\"author\":\"Herman Hesse\",\"genre\":\"Fiction\"},\n",
    " {\"title\":\"The Girl with the Dragon Tattoo\",\"author\":\"Stieg Larsson\",\"genre\":\"Fiction\"},\n",
    " {\"title\":\"Influence: The Psychology of Persuasion\",\"author\":\"Robert Cialdini\",\"genre\":\"Business\"},\n",
    " {\"title\":\"Fooled by Randomness\",\"author\":\"Nassim Nicholas Taleb\",\"genre\":\"Business\"},\n",
    " {\"title\":\"Breakthrough Advertising\",\"author\":\"Eugene Schwartz\",\"genre\":\"Business\"},\n",
    " {\"title\":\"How to Win Friends & Influence People\",\"author\":\"Dale Carnegie\",\"genre\":\"Business\"},\n",
    " {\"title\":\"The Power of Full Engagement\",\"author\":\"Jim Loehr\",\"genre\":\"Tony Schwartz\"},\n",
    " {\"title\":\"Starting Strength: Basic Barbell Training\",\"author\":\"Mark Rippetoe\",\"genre\":\"Fitness\"},\n",
    " {\"title\":\"You Are Your Own Gym: The Bible of Bodyweight Exercises\",\"author\":\"Mark Lauren\",\"genre\":\"Fitness\"},\n",
    " {\"title\":\"Strength Training Anatomy\",\"author\":\"Frederic Delavier\",\"genre\":\"Fitness\"},\n",
    " {\"title\":\"Sapiens: A Brief History of Humankind\",\"author\":\"Yuval Noah Harari\",\"genre\":\"History\"},\n",
    " {\"title\":\"Guns\",\"author\":\"Germs\",\"genre\":\"and Steel: The Fates of Human Societies\"},\n",
    " {\"title\":\"Manual for Living\",\"author\":\"Epictetus\",\"genre\":\"Philosophy\"},\n",
    " {\"title\":\"Meditations\",\"author\":\"Marcus Aurelius\",\"genre\":\"Philosophy\"},\n",
    " {\"title\":\"The Republic\",\"author\":\"Plato\",\"genre\":\"Philosophy\"},\n",
    " {\"title\":\"Thinking\",\"author\":\"Fast and Slow\",\"genre\":\"Daniel Kahneman\"},\n",
    " {\"title\":\"The Mysteries of Human Behavior\",\"author\":\"Mark Leary\",\"genre\":\"Psychology\"},\n",
    " {\"title\":\"The Power of Habit: Why We Do What We Do in Life and Business\",\"author\":\"Charles Duhigg\",\"genre\":\"Psychology\"},{\"title\":\"A Brief History of Time\",\"author\":\"Stephen Hawking\",\"genre\":\"Science\"},\n",
    " {\"title\":\"The Emperor of All Maladies: A Biography of Cancer\",\"author\":\"Siddhartha Mukherjee\",\"genre\":\"Science\"},\n",
    " {\"title\":\"Better: A Surgeon’s Notes on Performance\",\"author\":\"Atul Gawande\",\"genre\":\"Science\"},\n",
    " {\"title\":\"Breakthrough Advertising\",\"author\":\"Eugene Schwartz\",\"genre\":\"Writing\"},\n",
    " {\"title\":\"The Writer’s Journey: Mythic Structure for Writers\",\"author\":\"Christopher Vogler\",\"genre\":\"Writing\"},\n",
    " {\"title\":\"Bird by Bird\",\"author\":\"Anne Lamott\",\"genre\":\"Writing\"}]\n",
    "\n",
    "# Loop through the list and print information about each book\n",
    "for book in books:\n",
    "    print(\"Title:\", book[\"title\"])\n",
    "    print(\"Author:\", book[\"author\"])\n",
    "    print(\"Genre:\", book[\"genre\"])\n",
    "    print()\n",
    "\n",
    "# Prompt the user to enter a genre\n",
    "user_genre = input(\"Enter a genre: \")\n",
    "\n",
    "# Loop through the list and print titles of books in the entered genre\n",
    "print(f\"Books in the {user_genre} genre:\")\n",
    "for book in books:\n",
    "    if book[\"genre\"] == user_genre:\n",
    "        print(book[\"title\"])\n"
   ]
  },
  {
   "cell_type": "code",
   "execution_count": null,
   "id": "c5f6ea9d",
   "metadata": {},
   "outputs": [],
   "source": []
  },
  {
   "cell_type": "code",
   "execution_count": null,
   "id": "a2687f01",
   "metadata": {},
   "outputs": [],
   "source": []
  },
  {
   "cell_type": "code",
   "execution_count": null,
   "id": "b046bdbf",
   "metadata": {},
   "outputs": [],
   "source": []
  },
  {
   "cell_type": "code",
   "execution_count": null,
   "id": "3d236610",
   "metadata": {},
   "outputs": [],
   "source": []
  },
  {
   "cell_type": "code",
   "execution_count": null,
   "id": "c48c4f6e",
   "metadata": {},
   "outputs": [],
   "source": []
  }
 ],
 "metadata": {
  "kernelspec": {
   "display_name": "Python 3 (ipykernel)",
   "language": "python",
   "name": "python3"
  },
  "language_info": {
   "codemirror_mode": {
    "name": "ipython",
    "version": 3
   },
   "file_extension": ".py",
   "mimetype": "text/x-python",
   "name": "python",
   "nbconvert_exporter": "python",
   "pygments_lexer": "ipython3",
   "version": "3.11.5"
  }
 },
 "nbformat": 4,
 "nbformat_minor": 5
}
