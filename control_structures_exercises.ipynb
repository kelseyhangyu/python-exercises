{
 "cells": [
  {
   "cell_type": "code",
   "execution_count": 2,
   "id": "3ca3aece",
   "metadata": {},
   "outputs": [],
   "source": [
    "i_like_coffee = False\n",
    "\n",
    "if i_like_coffee:\n",
    "    print('I like coffee!')\n",
    "    print('Coffee is the best!')\n"
   ]
  },
  {
   "cell_type": "code",
   "execution_count": 4,
   "id": "bf694d88",
   "metadata": {},
   "outputs": [
    {
     "name": "stdout",
     "output_type": "stream",
     "text": [
      "Better bring an umbrella!\n"
     ]
    }
   ],
   "source": [
    "it_is_raining = True\n",
    "\n",
    "if it_is_raining:\n",
    "    print('Better bring an umbrella!')\n",
    "else:\n",
    "    print('Looks like a nice, sunny day!')\n"
   ]
  },
  {
   "cell_type": "code",
   "execution_count": 5,
   "id": "c5c7e0c5",
   "metadata": {},
   "outputs": [
    {
     "name": "stdout",
     "output_type": "stream",
     "text": [
      "Middle of the road, huh?\n"
     ]
    }
   ],
   "source": [
    "coffee_preference = 'medium'\n",
    "\n",
    "if coffee_preference == 'dark':\n",
    "    print('I love a good dark roast!')\n",
    "elif coffee_preference == 'medium':\n",
    "    print('Middle of the road, huh?')\n",
    "elif coffee_preference == 'light':\n",
    "    print('Light roast has the most caffeine!')\n",
    "else:\n",
    "    print('How about some tea then?')\n"
   ]
  },
  {
   "cell_type": "code",
   "execution_count": 6,
   "id": "5d297931",
   "metadata": {},
   "outputs": [
    {
     "data": {
      "text/plain": [
       "\"Hello ['a', 'b', 'c']!\""
      ]
     },
     "execution_count": 6,
     "metadata": {},
     "output_type": "execute_result"
    }
   ],
   "source": [
    "name = ['a','b','c']\n",
    "f'Hello {name}!'\n"
   ]
  },
  {
   "cell_type": "code",
   "execution_count": 7,
   "id": "6399bf41",
   "metadata": {},
   "outputs": [
    {
     "data": {
      "text/plain": [
       "True"
      ]
     },
     "execution_count": 7,
     "metadata": {},
     "output_type": "execute_result"
    }
   ],
   "source": [
    "5 == 5"
   ]
  }
 ],
 "metadata": {
  "kernelspec": {
   "display_name": "Python 3 (ipykernel)",
   "language": "python",
   "name": "python3"
  },
  "language_info": {
   "codemirror_mode": {
    "name": "ipython",
    "version": 3
   },
   "file_extension": ".py",
   "mimetype": "text/x-python",
   "name": "python",
   "nbconvert_exporter": "python",
   "pygments_lexer": "ipython3",
   "version": "3.11.5"
  }
 },
 "nbformat": 4,
 "nbformat_minor": 5
}
