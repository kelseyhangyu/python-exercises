{
 "cells": [
  {
   "cell_type": "code",
   "execution_count": 1,
   "id": "f804b0ca",
   "metadata": {},
   "outputs": [
    {
     "name": "stdout",
     "output_type": "stream",
     "text": [
      "hello world!\n"
     ]
    }
   ],
   "source": [
    "print ('hello world!')"
   ]
  },
  {
   "cell_type": "code",
   "execution_count": 3,
   "id": "368fb1b4",
   "metadata": {},
   "outputs": [
    {
     "data": {
      "text/plain": [
       "'command + enter runs the command but not auto generate a new cell'"
      ]
     },
     "execution_count": 3,
     "metadata": {},
     "output_type": "execute_result"
    }
   ],
   "source": [
    "'command + enter runs the command but not auto generate a new cell'"
   ]
  },
  {
   "cell_type": "code",
   "execution_count": 4,
   "id": "45b15ed0",
   "metadata": {},
   "outputs": [
    {
     "data": {
      "text/plain": [
       "'shift + enter runs the command AND also auto generate a new cell'"
      ]
     },
     "execution_count": 4,
     "metadata": {},
     "output_type": "execute_result"
    }
   ],
   "source": [
    "'shift + enter runs the command AND also auto generate a new cell'"
   ]
  },
  {
   "cell_type": "markdown",
   "id": "9f9ca232",
   "metadata": {},
   "source": [
    "shift + L will show the line numbers of your command\n"
   ]
  },
  {
   "cell_type": "code",
   "execution_count": 5,
   "id": "46523b16",
   "metadata": {},
   "outputs": [
    {
     "data": {
      "text/plain": [
       "type[2]"
      ]
     },
     "execution_count": 5,
     "metadata": {},
     "output_type": "execute_result"
    }
   ],
   "source": [
    "type[2]"
   ]
  }
 ],
 "metadata": {
  "kernelspec": {
   "display_name": "Python 3 (ipykernel)",
   "language": "python",
   "name": "python3"
  },
  "language_info": {
   "codemirror_mode": {
    "name": "ipython",
    "version": 3
   },
   "file_extension": ".py",
   "mimetype": "text/x-python",
   "name": "python",
   "nbconvert_exporter": "python",
   "pygments_lexer": "ipython3",
   "version": "3.11.5"
  }
 },
 "nbformat": 4,
 "nbformat_minor": 5
}
