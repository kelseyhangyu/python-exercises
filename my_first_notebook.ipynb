{
 "cells": [
  {
   "cell_type": "code",
   "execution_count": 1,
   "id": "3d592911",
   "metadata": {},
   "outputs": [
    {
     "name": "stdout",
     "output_type": "stream",
     "text": [
      "hello world!\n"
     ]
    }
   ],
   "source": [
    "print ('hello world!')"
   ]
  },
  {
   "cell_type": "code",
   "execution_count": 3,
   "id": "f83a2239",
   "metadata": {},
   "outputs": [
    {
     "data": {
      "text/plain": [
       "'command + enter runs the command but not auto generate a new cell'"
      ]
     },
     "execution_count": 3,
     "metadata": {},
     "output_type": "execute_result"
    }
   ],
   "source": [
    "'command + enter runs the command but not auto generate a new cell'"
   ]
  },
  {
   "cell_type": "code",
   "execution_count": 4,
   "id": "fd825789",
   "metadata": {},
   "outputs": [
    {
     "data": {
      "text/plain": [
       "'shift + enter runs the command AND also auto generate a new cell'"
      ]
     },
     "execution_count": 4,
     "metadata": {},
     "output_type": "execute_result"
    }
   ],
   "source": [
    "'shift + enter runs the command AND also auto generate a new cell'"
   ]
  }
 ],
 "metadata": {
  "kernelspec": {
   "display_name": "Python 3 (ipykernel)",
   "language": "python",
   "name": "python3"
  },
  "language_info": {
   "codemirror_mode": {
    "name": "ipython",
    "version": 3
   },
   "file_extension": ".py",
   "mimetype": "text/x-python",
   "name": "python",
   "nbconvert_exporter": "python",
   "pygments_lexer": "ipython3",
   "version": "3.11.5"
  }
 },
 "nbformat": 4,
 "nbformat_minor": 5
}
