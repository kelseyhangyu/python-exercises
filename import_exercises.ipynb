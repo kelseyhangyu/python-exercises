{
 "cells": [
  {
   "cell_type": "markdown",
   "id": "a4de2bbe",
   "metadata": {},
   "source": [
    "# NOTES #"
   ]
  },
  {
   "cell_type": "markdown",
   "id": "4a751f49",
   "metadata": {},
   "source": [
    "- Module: a python file with a .py extension. can exist in the library, packages, working directory\n",
    "- pip: install packages from the Python Package Index\n",
    "- conda: install packages published on through anaconda\n",
    "  - conda is generally preferred as it ensures that the versions of all installed libraries are compatible with each other, and the packages it makes available are all vetted by anaconda. While very rare, packages on pypi can by contain malicious code, as anyone can publish a package."
   ]
  },
  {
   "cell_type": "code",
   "execution_count": 8,
   "id": "a4ed94e7",
   "metadata": {},
   "outputs": [
    {
     "name": "stdout",
     "output_type": "stream",
     "text": [
      "a\n",
      "4.0\n"
     ]
    }
   ],
   "source": [
    "from math import sqrt as sr, pow as p\n",
    "a=sr(25)\n",
    "print('a')\n",
    "b=p(2,2)\n",
    "print(b)\n",
    "\n"
   ]
  },
  {
   "cell_type": "code",
   "execution_count": 15,
   "id": "cec05fe3",
   "metadata": {},
   "outputs": [
    {
     "data": {
      "text/plain": [
       "0       a\n",
       "1       1\n",
       "2    True\n",
       "dtype: object"
      ]
     },
     "execution_count": 15,
     "metadata": {},
     "output_type": "execute_result"
    }
   ],
   "source": [
    "import pandas as pd\n",
    "\n",
    "pd.Series([\"a\", 1, True])"
   ]
  },
  {
   "cell_type": "markdown",
   "id": "e9b9624c",
   "metadata": {},
   "source": [
    "# EXERCISES #"
   ]
  },
  {
   "cell_type": "markdown",
   "id": "b3d2887a",
   "metadata": {},
   "source": [
    "1. Import and test 3 of the functions from your functions exercise file. Import each function in a different way:\n",
    "\n",
    "  a. Run an interactive python session and import the module. Call the is_vowel function using the . syntax.\n",
    "  \n",
    "  b. Create a file named import_exercises.py. Within this file, use from to import the calculate_tip function directly. Call this function with values you choose and print the result.\n",
    "  \n",
    "  c. Create a jupyter notebook named import_exercises.ipynb. Use from to import the get_letter_grade function and give it an alias. Test this function in your notebook.\n"
   ]
  },
  {
   "cell_type": "code",
   "execution_count": null,
   "id": "45f3a85c",
   "metadata": {},
   "outputs": [],
   "source": [
    " # a\n",
    "  '''already ran in terminal'''"
   ]
  },
  {
   "cell_type": "code",
   "execution_count": 16,
   "id": "5b18abf3",
   "metadata": {},
   "outputs": [],
   "source": [
    "# b\n",
    "import function_exercises as fe\n",
    "print(fe.calculate_tip(50,0.1))"
   ]
  },
  {
   "cell_type": "code",
   "execution_count": 22,
   "id": "0a3dc883",
   "metadata": {},
   "outputs": [
    {
     "data": {
      "text/plain": [
       "'B'"
      ]
     },
     "execution_count": 22,
     "metadata": {},
     "output_type": "execute_result"
    }
   ],
   "source": [
    "# c\n",
    "from function_exercises import get_letter_grade as glg\n",
    "glg(80)"
   ]
  },
  {
   "cell_type": "markdown",
   "id": "36f59840",
   "metadata": {},
   "source": [
    "2. Read about and use the itertools module from the python standard library to help you solve the following problems. Note: Many of these functions in this library return an object, to see the results of the function, cast this object as a list.\n",
    "\n",
    "(list comprehension: new_list = [expression FOR item IN iterable IF condition])\n",
    "\n",
    "e.g. squares = [x ** 2 for x in range(1, 11)]\n",
    "\n",
    " - a. How many different ways can you combine a single letter from \"abc\" with either 1, 2, or 3?\n",
    " \n",
    " - b. How many different combinations are there of 2 letters from \"abcd\"?\n",
    " \n",
    " - c. How many different permutations are there of 2 letters from \"abcd\"?"
   ]
  },
  {
   "cell_type": "code",
   "execution_count": 26,
   "id": "cddf4575",
   "metadata": {},
   "outputs": [],
   "source": [
    "import itertools as it"
   ]
  },
  {
   "cell_type": "code",
   "execution_count": 47,
   "id": "c7573b7b",
   "metadata": {},
   "outputs": [
    {
     "name": "stdout",
     "output_type": "stream",
     "text": [
      "9\n"
     ]
    }
   ],
   "source": [
    "# a\n",
    "# Define the input iterables\n",
    "letters = \"abc\"\n",
    "numbers = [1, 2, 3]\n",
    "\n",
    "# Use itertools.product to generate combinations\n",
    "ways = list(it.product(letters, numbers))\n",
    "\n",
    "# Count the number of combinations\n",
    "count = len(ways)\n",
    "\n",
    "print(count)\n"
   ]
  },
  {
   "cell_type": "code",
   "execution_count": 46,
   "id": "172bf8f1",
   "metadata": {},
   "outputs": [
    {
     "name": "stdout",
     "output_type": "stream",
     "text": [
      "6\n"
     ]
    }
   ],
   "source": [
    "#b\n",
    "\n",
    "# Use itertools.combinations to generate combinations of length 2\n",
    "combinations = list(it.combinations(letters, 2))\n",
    "\n",
    "# Count the number of combinations\n",
    "count = len(combinations)\n",
    "\n",
    "print(count)\n"
   ]
  },
  {
   "cell_type": "code",
   "execution_count": 52,
   "id": "27aae920",
   "metadata": {},
   "outputs": [
    {
     "data": {
      "text/plain": [
       "6"
      ]
     },
     "execution_count": 52,
     "metadata": {},
     "output_type": "execute_result"
    }
   ],
   "source": [
    "# c\n",
    "permutations = it.permutations(letters,2)\n",
    "count = list(permutations)\n",
    "len(count)\n",
    "    "
   ]
  },
  {
   "cell_type": "code",
   "execution_count": 55,
   "id": "310e7519",
   "metadata": {},
   "outputs": [
    {
     "ename": "TypeError",
     "evalue": "'permutations' is an invalid keyword argument for print()",
     "output_type": "error",
     "traceback": [
      "\u001b[0;31m---------------------------------------------------------------------------\u001b[0m",
      "\u001b[0;31mTypeError\u001b[0m                                 Traceback (most recent call last)",
      "Cell \u001b[0;32mIn[55], line 1\u001b[0m\n\u001b[0;32m----> 1\u001b[0m \u001b[38;5;28mprint\u001b[39m(permutations \u001b[38;5;241m=\u001b[39m it\u001b[38;5;241m.\u001b[39mpermutations(letters,\u001b[38;5;241m2\u001b[39m))\n",
      "\u001b[0;31mTypeError\u001b[0m: 'permutations' is an invalid keyword argument for print()"
     ]
    }
   ],
   "source": [
    "print(permutations = it.permutations(letters,2))"
   ]
  }
 ],
 "metadata": {
  "kernelspec": {
   "display_name": "Python 3 (ipykernel)",
   "language": "python",
   "name": "python3"
  },
  "language_info": {
   "codemirror_mode": {
    "name": "ipython",
    "version": 3
   },
   "file_extension": ".py",
   "mimetype": "text/x-python",
   "name": "python",
   "nbconvert_exporter": "python",
   "pygments_lexer": "ipython3",
   "version": "3.11.5"
  }
 },
 "nbformat": 4,
 "nbformat_minor": 5
}
