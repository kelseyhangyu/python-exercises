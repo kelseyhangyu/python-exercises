{
 "cells": [
  {
   "cell_type": "markdown",
   "id": "63b67d01",
   "metadata": {},
   "source": [
    "# to complete an if statement\n",
    "- the keyword if\n",
    "- a condition that evaluates to a boolean value followed by a colon (:)\n",
    "- the body of the statement indented by 4 spaces"
   ]
  },
  {
   "cell_type": "markdown",
   "id": "672ce43a",
   "metadata": {},
   "source": [
    "# Lecture notes #\n",
    "- code execute from top to bottom\n",
    "- require indentation for if conditions after the colon:\n",
    "- loops are very important\n",
    "   - for loop: run a block of code set a number of times, use with IN, use with iterables like lists/strings\n",
    "    - generates everything inside of that string/list\n",
    "    - for 'item' in 'sequence':\n",
    "           #\n",
    "           #\n",
    "   - while loop: run until a condition is met\n",
    "\n"
   ]
  },
  {
   "cell_type": "code",
   "execution_count": null,
   "id": "b766988e",
   "metadata": {},
   "outputs": [],
   "source": [
    "pets = ['cat','dog','rabbit']\n",
    "days_owned = 10\n",
    "for pet in pets:\n",
    "    days_owned -=1\n",
    "print(days_owned)"
   ]
  },
  {
   "cell_type": "code",
   "execution_count": null,
   "id": "14ea26d5",
   "metadata": {},
   "outputs": [],
   "source": [
    "i_like_coffee = False\n",
    "\n",
    "if i_like_coffee:\n",
    "    print('I like coffee!')\n",
    "    print('Coffee is the best!')\n",
    "elif not i_like_coffee:\n",
    "    print (\"I don't like coffee\")\n",
    "else:\n",
    "    print('else')\n",
    "    "
   ]
  },
  {
   "cell_type": "code",
   "execution_count": null,
   "id": "aad405e4",
   "metadata": {},
   "outputs": [],
   "source": [
    "it_is_raining = True\n",
    "\n",
    "if it_is_raining:\n",
    "    print('Better bring an umbrella!')\n",
    "else:\n",
    "    print('Looks like a nice, sunny day!')\n"
   ]
  },
  {
   "cell_type": "code",
   "execution_count": null,
   "id": "cabaa850",
   "metadata": {},
   "outputs": [],
   "source": [
    "coffee_preference = 'medium'\n",
    "\n",
    "if coffee_preference == 'dark':\n",
    "    print('I love a good dark roast!')\n",
    "elif coffee_preference == 'medium':\n",
    "    print('Middle of the road, huh?')\n",
    "elif coffee_preference == 'light':\n",
    "    print('Light roast has the most caffeine!')\n",
    "else:\n",
    "    print('How about some tea then?')\n"
   ]
  },
  {
   "cell_type": "code",
   "execution_count": null,
   "id": "35c2a974",
   "metadata": {},
   "outputs": [],
   "source": [
    "name = ['a','b','c']\n",
    "f'Hello {name}!'\n"
   ]
  },
  {
   "cell_type": "code",
   "execution_count": null,
   "id": "4ae46943",
   "metadata": {},
   "outputs": [],
   "source": [
    "for number in range(1, 4):\n",
    "    print(number)"
   ]
  },
  {
   "cell_type": "code",
   "execution_count": null,
   "id": "a8639663",
   "metadata": {},
   "outputs": [],
   "source": [
    "for letter in 'abcde':\n",
    "    print(letter)"
   ]
  },
  {
   "cell_type": "code",
   "execution_count": null,
   "id": "c5af1d10",
   "metadata": {},
   "outputs": [],
   "source": [
    "languages = ['bash', 'python', 'R', 'clojure']\n",
    "\n",
    "for i in languages:\n",
    "    print(f'{i} is a nice programming language')"
   ]
  },
  {
   "cell_type": "code",
   "execution_count": null,
   "id": "040fa720",
   "metadata": {},
   "outputs": [],
   "source": [
    "for programming_language in languages:\n",
    "    if programming_language == 'python':\n",
    "        print(f'{programming_language} is my favorite!')\n",
    "    else:\n",
    "        print(f'{programming_language} is a nice programming language')\n"
   ]
  },
  {
   "cell_type": "code",
   "execution_count": null,
   "id": "0952b35b",
   "metadata": {},
   "outputs": [],
   "source": [
    "[ i for i in range (0,10)] #range (10) means from 0 to 10\n",
    "[n * 2 for n in range(10)]\n",
    "[n * 2 for n in range(10) if n % 2 == 0]"
   ]
  },
  {
   "cell_type": "code",
   "execution_count": null,
   "id": "c318bee9",
   "metadata": {},
   "outputs": [],
   "source": [
    "[n * 2 for n in range(10)]"
   ]
  },
  {
   "cell_type": "code",
   "execution_count": null,
   "id": "27443fcd",
   "metadata": {},
   "outputs": [],
   "source": [
    "[n * 2 for n in range(10) if n % 2 == 0] #execute 1st \"for\", 2nd the \"if\", lastly the n*2"
   ]
  },
  {
   "cell_type": "code",
   "execution_count": null,
   "id": "41535ce1",
   "metadata": {},
   "outputs": [],
   "source": [
    "# while loop is not commonly used and is encouraged to be avoided.\n",
    "i = 5\n",
    "while i <= 10: #the condition to stop the loop. unless this condition becomes false, the loop would run infinitely\n",
    "    print(i)\n",
    "    i += 1\n"
   ]
  },
  {
   "cell_type": "code",
   "execution_count": null,
   "id": "25988633",
   "metadata": {},
   "outputs": [],
   "source": [
    "i = 5\n",
    "while i <= 10: #the condition to stop the loop\n",
    "    i += 1\n",
    "    print(i)\n"
   ]
  },
  {
   "cell_type": "code",
   "execution_count": null,
   "id": "da4b7762",
   "metadata": {},
   "outputs": [],
   "source": [
    "for n in range(100_000):\n",
    "    print(n)\n",
    "    if n > 10:\n",
    "        break"
   ]
  },
  {
   "cell_type": "code",
   "execution_count": null,
   "id": "ab2f671c",
   "metadata": {},
   "outputs": [],
   "source": [
    "for n in range(10):\n",
    "    if n % 2 == 0:\n",
    "        continue #means to skip this number that meets the above condition\n",
    "    print(f'Here is an odd number: {n}')\n"
   ]
  },
  {
   "cell_type": "code",
   "execution_count": null,
   "id": "e79b4a6f",
   "metadata": {},
   "outputs": [],
   "source": [
    "dataset = [{'name': 'age', 'type': 'int', 'data': [20, 25, 43, 11, 15, 53, 36]},\n",
    "           {'name': 'is_vegetarian', 'type': 'boolean', 'data': [False, True, False, False, True, False, False]},\n",
    "           {'name': 'shoe size', 'type': 'int', 'data': [8, 11, 7, 10, 7, 9, 10]},\n",
    "           {'name': 'ISP', 'type': 'categorical', 'data': ['AT&T', 'Spectrum', 'Spectrum', 'Spectrum', 'AT&T', 'Spectrum', 'AT&T']},\n",
    "           {'name': 'BMI', 'type': 'float', 'data': [29.9, 20.4, 23.3, 21.7, 22.2, 22.8, 27.0]}]\n",
    "\n",
    "# print the means for the numeric data\n",
    "for i in dataset:\n",
    "    if i ['type'] == 'categorical' or i['type'] == 'boolean':\n",
    "        print(f\"{i['name']} is not numeric, skipping\")\n",
    "        continue \n",
    "    avg = sum(i['data']) / len(i['data'])\n",
    "    print(f\"{i['name']} average: {avg:.2f}\") # the :.2f formats the decimal to 2 places.\n"
   ]
  },
  {
   "cell_type": "markdown",
   "id": "689a2ae4",
   "metadata": {},
   "source": [
    "# EXERCISES #"
   ]
  },
  {
   "cell_type": "markdown",
   "id": "5b6d91b3",
   "metadata": {},
   "source": [
    "1. Conditional Basics\n",
    "\n",
    "     a. Prompt the user for a day of the week, print out whether the day is Monday or not\n",
    "\n",
    "     b. Prompt the user for a day of the week, print out whether the day is a weekday or a weekend\n",
    "\n",
    "     c. Calculate a weekly paycheck, accounting for overtime pay. Create variables and make up values for:\n",
    "\n",
    "       - The number of hours worked in one week\n",
    "       - The hourly rate\n",
    "    \n",
    "    For calculating pay:\n",
    "\n",
    "       - For working 40 hours or less, each hour is paid at the hourly rate\n",
    "       - For working more than 40 hours\n",
    "\n",
    "          - the first 40 hours are paid at the hourly rate\n",
    "          - each hour after 40 is paid at time and a half (hourly rate * 1.5)"
   ]
  },
  {
   "cell_type": "code",
   "execution_count": null,
   "id": "6cd2cdb9",
   "metadata": {},
   "outputs": [],
   "source": [
    "#a. Prompt the user for a day of the week, print out whether the day is Monday or not\n",
    "user_input = input('Input a day during the week: ')\n",
    "if user_input.lower() == 'monday':\n",
    "    print('Monday')\n",
    "else:\n",
    "    print('Not Monday')"
   ]
  },
  {
   "cell_type": "code",
   "execution_count": null,
   "id": "7141d839",
   "metadata": {},
   "outputs": [],
   "source": [
    "#b Prompt the user for a day of the week, print out whether the day is a weekday or a weekend\n",
    "# Prompt the user for a day of the week\n",
    "day = input(\"Enter a day of the week: \").strip().lower()\n",
    "\n",
    "# Define a list of weekdays and weekends\n",
    "weekdays = [\"monday\", \"tuesday\", \"wednesday\", \"thursday\", \"friday\"]\n",
    "weekends = [\"saturday\", \"sunday\"]\n",
    "\n",
    "# Check if the entered day is a weekday or a weekend\n",
    "if day in weekdays:\n",
    "    print(f\"{day.capitalize()} is a weekday.\")\n",
    "elif day in weekends:\n",
    "    print(f\"{day.capitalize()} is a weekend day.\")\n",
    "else:\n",
    "    print(\"Invalid input. Please enter a valid day of the week.\")\n"
   ]
  },
  {
   "cell_type": "code",
   "execution_count": null,
   "id": "ff53dc17",
   "metadata": {},
   "outputs": [],
   "source": [
    "# C\n",
    "hour = int(input('how many hours have you worked? '))\n",
    "hourly_rate = 50\n",
    "if hour <= 40:\n",
    "    pay = hourly_rate * hour \n",
    "else:\n",
    "    pay = 1.5 * hourly_rate * (hour - 40) + 40 * hourly_rate \n",
    "weekly_pay = pay\n",
    "print(f\"your weekly pay is: {weekly_pay}\")\n"
   ]
  },
  {
   "cell_type": "markdown",
   "id": "e6af7e89",
   "metadata": {},
   "source": [
    "2. Loop Basics\n",
    "\n",
    "   a. While\n",
    "\n",
    "      i. Create an integer variable i with a value of 5. Create a while loop that runs so long as i is less than or equal to 15. Each loop iteration, output the current value of i, then increment i by one.\n"
   ]
  },
  {
   "cell_type": "code",
   "execution_count": null,
   "id": "79b6a988",
   "metadata": {},
   "outputs": [],
   "source": [
    "i = 5\n",
    "while i <= 15:\n",
    "    print(i)\n",
    "    i += 1"
   ]
  },
  {
   "cell_type": "code",
   "execution_count": null,
   "id": "3e834746",
   "metadata": {},
   "outputs": [],
   "source": [
    "# i. Create a while loop that will count by 2's starting with 0 and ending at 100. Follow each number with a new line.\n",
    "\n",
    "i = 0\n",
    "while i <= 100:\n",
    "    print (i)\n",
    "    i+= 2"
   ]
  },
  {
   "cell_type": "markdown",
   "id": "ac594977",
   "metadata": {},
   "source": [
    " Create a while loop that starts at 2, and displays the number squared on each line while the number is less than 1,000,000. "
   ]
  },
  {
   "cell_type": "code",
   "execution_count": null,
   "id": "8a73ebaf",
   "metadata": {},
   "outputs": [],
   "source": [
    "i = 2\n",
    "while i < 1000000:\n",
    "    print (i)\n",
    "    i = i ** 2"
   ]
  },
  {
   "cell_type": "code",
   "execution_count": null,
   "id": "ebddf1dc",
   "metadata": {},
   "outputs": [],
   "source": [
    "#Write a while loop that uses print to create the output shown below.\n",
    "\n",
    "i = 100\n",
    "while i >= 5:\n",
    "    print(i)\n",
    "    i-=5\n",
    "    "
   ]
  },
  {
   "cell_type": "markdown",
   "id": "618e5b38",
   "metadata": {},
   "source": [
    "b. For Loops\n",
    "\n",
    "   i.Write some code using a for loop that prompts the user for a number, then shows a multiplication table up through 10 for that number."
   ]
  },
  {
   "cell_type": "code",
   "execution_count": null,
   "id": "fa043892",
   "metadata": {},
   "outputs": [],
   "source": [
    "# Prompt the user for a number\n",
    "number = int(input(\"Enter a integer: \"))\n",
    "\n",
    "# Display the multiplication table up to 10\n",
    "for i in range(1, 11):\n",
    "    result = number * i\n",
    "    print(f\"{number} x {i} = {result}\")\n",
    "# or print (number, 'x', i, '=', result)"
   ]
  },
  {
   "cell_type": "code",
   "execution_count": null,
   "id": "eefffdff",
   "metadata": {},
   "outputs": [],
   "source": [
    "# Create a for loop that uses print to create the output shown below.\n",
    "for i in range(1,10):\n",
    "    print(str(i) * i)\n"
   ]
  },
  {
   "cell_type": "markdown",
   "id": "93db162e",
   "metadata": {},
   "source": [
    "C. break and continue\n",
    "\n",
    " -- i.Write a program that prompts the user for a positive integer. Next write a loop that prints out the numbers from the number the user entered down to 1."
   ]
  },
  {
   "cell_type": "code",
   "execution_count": null,
   "id": "fad9c387",
   "metadata": {},
   "outputs": [],
   "source": [
    "number = int(input(\"Enter a positive integer: \"))\n",
    "for i in range(int(number),0,-1): #range(start point, stop point, step)\n",
    "    print(i)"
   ]
  },
  {
   "cell_type": "markdown",
   "id": "8d804b43",
   "metadata": {},
   "source": [
    "- ii. The input function can be used to prompt for input and use that input in your python code. Prompt the user to enter a positive number and write a loop that counts from 0 to that number. (Hints: note that the input function returns a string, so you'll need to convert this to a numeric type.)"
   ]
  },
  {
   "cell_type": "code",
   "execution_count": null,
   "id": "d8a4d844",
   "metadata": {},
   "outputs": [],
   "source": [
    "# Ask user for positive number\n",
    "num_input = int(input(\"input a positive number: \"))\n",
    "\n",
    "for i in range(num_input+1):\n",
    "    print(i)"
   ]
  },
  {
   "cell_type": "code",
   "execution_count": null,
   "id": "c9b1eb8e",
   "metadata": {},
   "outputs": [],
   "source": [
    "#Prompt the user for an odd number between 1 and 50. \n",
    "#Use a loop and a break statement to continue prompting the user if they enter invalid input. \n",
    "#(Hint: use the isdigit method on strings to determine this).\n",
    "\n",
    "while True:\n",
    "    number = int(input(\"Enter an odd number between 1 and 50: \"))\n",
    "    if number % 2 != 0 and 1 <= number <= 50 :\n",
    "        break  # Exit the loop if valid input\n",
    "    else:\n",
    "        print(\"Invalid input. Please enter an odd number between 1 and 50\")\n",
    "\n"
   ]
  },
  {
   "cell_type": "code",
   "execution_count": null,
   "id": "67aa06be",
   "metadata": {},
   "outputs": [],
   "source": [
    "# Use a loop and the continue statement to output all the odd numbers between 1 and 50, \n",
    "# except for the number the user entered.\n",
    "\n",
    "user_input = int(input(\"Enter an odd number between 1 and 50: \"))\n",
    "\n",
    "if 1 <= user_input <= 50 and user_input % 2 != 0:\n",
    "    for number in range(1, 51):\n",
    "        if number == user_input:\n",
    "            continue  # Skip the user-entered number\n",
    "        if number % 2 != 0:\n",
    "            print(number)\n",
    "else:\n",
    "    print(\"Invalid input. Please enter a valid odd number between 1 and 50.\")\n",
    "\n",
    "    "
   ]
  },
  {
   "cell_type": "markdown",
   "id": "bf0551e7",
   "metadata": {},
   "source": [
    "# 3.Fizzbuzz\n",
    "\n",
    "One of the most common interview questions for entry-level programmers is the FizzBuzz test. Developed by Imran Ghory, the test is designed to test basic looping and conditional logic skills.\n",
    "\n",
    "- Write a program that prints the numbers from 1 to 100.\n",
    "- For multiples of three print \"Fizz\" instead of the number\n",
    "- For the multiples of five print \"Buzz\".\n",
    "- For numbers which are multiples of both three and five print \"FizzBuzz\".\n"
   ]
  },
  {
   "cell_type": "code",
   "execution_count": null,
   "id": "2fc2bdce",
   "metadata": {},
   "outputs": [],
   "source": [
    "for i in range (1,101):\n",
    "    if i%3==0 and i%5==0:\n",
    "        print ('FizzBuzz')\n",
    "    elif i%3==0:\n",
    "        print ('Fizz')\n",
    "    elif i%5==0:\n",
    "        print ('Buzz')\n",
    "    else:\n",
    "        print(i)"
   ]
  },
  {
   "cell_type": "markdown",
   "id": "dab3efd8",
   "metadata": {},
   "source": [
    "# 4.Display a table of powers.\n",
    "\n",
    "- Prompt the user to enter an integer\n",
    "- Display a table of squares and cubes from 1 to the value entered\n",
    "- Ask if the user wants to continue\n",
    "- Assume that the user will enter valid data\n",
    "- Only continue if the user agrees to"
   ]
  },
  {
   "cell_type": "code",
   "execution_count": 1,
   "id": "d2b5044f",
   "metadata": {},
   "outputs": [
    {
     "name": "stdout",
     "output_type": "stream",
     "text": [
      "Enter an integer: 3\n",
      "number | squared | cubed\n",
      "-------|---------|------\n",
      "1      |1        |1 \n",
      "2      |4        |8 \n",
      "3      |9        |27 \n",
      "Would you like to continue (yes/no)?no\n"
     ]
    }
   ],
   "source": [
    "cont = 'yes'\n",
    "\n",
    "while cont == 'yes':\n",
    "    numb = int(input('Enter an integer: '))\n",
    "\n",
    "    print(f'number | squared | cubed')\n",
    "    print(f'-------|---------|------')\n",
    "\n",
    "    for i in range(1,numb+1):\n",
    "                # ALternative to tabbing: use < to get tab formatting without hardcoding tab spacing\n",
    "        print(f'{i:<7}|{i**2}        |{i**3} ')\n",
    "        \n",
    "    cont = input('Would you like to continue (yes/no)?')"
   ]
  },
  {
   "cell_type": "code",
   "execution_count": 2,
   "id": "53a95086",
   "metadata": {},
   "outputs": [
    {
     "name": "stdout",
     "output_type": "stream",
     "text": [
      "Type a numerical grade from 0 to 100:101\n",
      "Do you want to continue? (y/n): y\n",
      "Type a numerical grade from 0 to 100:20\n",
      "F\n",
      "Do you want to continue? (y/n): y\n",
      "Type a numerical grade from 0 to 100:99\n",
      "A\n",
      "Do you want to continue? (y/n): n\n",
      "Goodbye!\n"
     ]
    }
   ],
   "source": [
    "while True:\n",
    "    n = int(input('Type a numerical grade from 0 to 100:'))\n",
    "\n",
    "    if 88 <= n <= 100:\n",
    "        print('A')\n",
    "    elif 80 <= n <= 87:\n",
    "        print('B')\n",
    "    elif 67 <= n <= 79:\n",
    "        print('C')\n",
    "    elif 60 <= n <= 66:\n",
    "        print('D')\n",
    "    elif 0 <= n <= 59:\n",
    "        print('F')\n",
    "\n",
    "    response = input(\"Do you want to continue? (y/n): \")\n",
    "\n",
    "    if response.lower() != 'y':\n",
    "        print(\"Goodbye!\")\n",
    "        break\n"
   ]
  },
  {
   "cell_type": "markdown",
   "id": "9ccfff2c",
   "metadata": {},
   "source": [
    "# 6. \n",
    "- Create a list of dictionaries where each dictionary represents a book that you have read. Each dictionary in the list should have the keys title, author, and genre. Loop through the list and print out information about each book.\n",
    "\n",
    "- Prompt the user to enter a genre, then loop through your books list and print out the titles of all the books in that genre."
   ]
  },
  {
   "cell_type": "code",
   "execution_count": 4,
   "id": "81cd2d7c",
   "metadata": {},
   "outputs": [
    {
     "name": "stdout",
     "output_type": "stream",
     "text": [
      "Title: Impro: Improvisation and the Theatre\n",
      "Author: Keith Johnstone\n",
      "Genre: Art\n",
      "\n",
      "Title: Ignore Everybody\n",
      "Author: Hugh MacLeod\n",
      "Genre: Art\n",
      "\n",
      "Title: Born Standing Up\n",
      "Author: Steve Martin\n",
      "Genre: Biography\n",
      "\n",
      "Title: Just Kids\n",
      "Author: Patti Smith\n",
      "Genre: Biography\n",
      "\n",
      "Title: Intimations of Paradise\n",
      "Author: Christopher Burkett\n",
      "Genre: Art\n",
      "\n",
      "Title: The Count of Monte Cristo\n",
      "Author: Alexandre Dumas\n",
      "Genre: Fiction\n",
      "\n",
      "Title: To Kill a Mockingbird\n",
      "Author: Harper Lee\n",
      "Genre: Fiction\n",
      "\n",
      "Title: The Little Prince\n",
      "Author: Antoine de Saint-Exupery\n",
      "Genre: Fiction\n",
      "\n",
      "Title: Siddhartha\n",
      "Author: Herman Hesse\n",
      "Genre: Fiction\n",
      "\n",
      "Title: The Girl with the Dragon Tattoo\n",
      "Author: Stieg Larsson\n",
      "Genre: Fiction\n",
      "\n",
      "Title: Influence: The Psychology of Persuasion\n",
      "Author: Robert Cialdini\n",
      "Genre: Business\n",
      "\n",
      "Title: Fooled by Randomness\n",
      "Author: Nassim Nicholas Taleb\n",
      "Genre: Business\n",
      "\n",
      "Title: Breakthrough Advertising\n",
      "Author: Eugene Schwartz\n",
      "Genre: Business\n",
      "\n",
      "Title: How to Win Friends & Influence People\n",
      "Author: Dale Carnegie\n",
      "Genre: Business\n",
      "\n",
      "Title: The Power of Full Engagement\n",
      "Author: Jim Loehr\n",
      "Genre: Tony Schwartz\n",
      "\n",
      "Title: Starting Strength: Basic Barbell Training\n",
      "Author: Mark Rippetoe\n",
      "Genre: Fitness\n",
      "\n",
      "Title: You Are Your Own Gym: The Bible of Bodyweight Exercises\n",
      "Author: Mark Lauren\n",
      "Genre: Fitness\n",
      "\n",
      "Title: Strength Training Anatomy\n",
      "Author: Frederic Delavier\n",
      "Genre: Fitness\n",
      "\n",
      "Title: Sapiens: A Brief History of Humankind\n",
      "Author: Yuval Noah Harari\n",
      "Genre: History\n",
      "\n",
      "Title: Guns\n",
      "Author: Germs\n",
      "Genre: and Steel: The Fates of Human Societies\n",
      "\n",
      "Title: Manual for Living\n",
      "Author: Epictetus\n",
      "Genre: Philosophy\n",
      "\n",
      "Title: Meditations\n",
      "Author: Marcus Aurelius\n",
      "Genre: Philosophy\n",
      "\n",
      "Title: The Republic\n",
      "Author: Plato\n",
      "Genre: Philosophy\n",
      "\n",
      "Title: Thinking\n",
      "Author: Fast and Slow\n",
      "Genre: Daniel Kahneman\n",
      "\n",
      "Title: The Mysteries of Human Behavior\n",
      "Author: Mark Leary\n",
      "Genre: Psychology\n",
      "\n",
      "Title: The Power of Habit: Why We Do What We Do in Life and Business\n",
      "Author: Charles Duhigg\n",
      "Genre: Psychology\n",
      "\n",
      "Title: A Brief History of Time\n",
      "Author: Stephen Hawking\n",
      "Genre: Science\n",
      "\n",
      "Title: The Emperor of All Maladies: A Biography of Cancer\n",
      "Author: Siddhartha Mukherjee\n",
      "Genre: Science\n",
      "\n",
      "Title: Better: A Surgeon’s Notes on Performance\n",
      "Author: Atul Gawande\n",
      "Genre: Science\n",
      "\n",
      "Title: Breakthrough Advertising\n",
      "Author: Eugene Schwartz\n",
      "Genre: Writing\n",
      "\n",
      "Title: The Writer’s Journey: Mythic Structure for Writers\n",
      "Author: Christopher Vogler\n",
      "Genre: Writing\n",
      "\n",
      "Title: Bird by Bird\n",
      "Author: Anne Lamott\n",
      "Genre: Writing\n",
      "\n",
      "Enter a genre: Art\n",
      "Books in the Art genre:\n",
      "Impro: Improvisation and the Theatre\n",
      "Ignore Everybody\n",
      "Intimations of Paradise\n",
      "genre not available in this list\n"
     ]
    }
   ],
   "source": [
    "# Create a list of dictionaries representing books\n",
    "books = [\n",
    " {\"title\":\"Impro: Improvisation and the Theatre\",\"author\":\"Keith Johnstone\",\"genre\":\"Art\"},\n",
    " {\"title\":\"Ignore Everybody\",\"author\":\"Hugh MacLeod\",\"genre\":\"Art\"},\n",
    " {\"title\":\"Born Standing Up\",\"author\":\"Steve Martin\",\"genre\":\"Biography\"},\n",
    " {\"title\":\"Just Kids\",\"author\":\"Patti Smith\",\"genre\":\"Biography\"},\n",
    " {\"title\":\"Intimations of Paradise\",\"author\":\"Christopher Burkett\",\"genre\":\"Art\"},\n",
    " {\"title\":\"The Count of Monte Cristo\",\"author\":\"Alexandre Dumas\",\"genre\":\"Fiction\"},\n",
    " {\"title\":\"To Kill a Mockingbird\",\"author\":\"Harper Lee\",\"genre\":\"Fiction\"},\n",
    " {\"title\":\"The Little Prince\",\"author\":\"Antoine de Saint-Exupery\",\"genre\":\"Fiction\"},\n",
    " {\"title\":\"Siddhartha\",\"author\":\"Herman Hesse\",\"genre\":\"Fiction\"},\n",
    " {\"title\":\"The Girl with the Dragon Tattoo\",\"author\":\"Stieg Larsson\",\"genre\":\"Fiction\"},\n",
    " {\"title\":\"Influence: The Psychology of Persuasion\",\"author\":\"Robert Cialdini\",\"genre\":\"Business\"},\n",
    " {\"title\":\"Fooled by Randomness\",\"author\":\"Nassim Nicholas Taleb\",\"genre\":\"Business\"},\n",
    " {\"title\":\"Breakthrough Advertising\",\"author\":\"Eugene Schwartz\",\"genre\":\"Business\"},\n",
    " {\"title\":\"How to Win Friends & Influence People\",\"author\":\"Dale Carnegie\",\"genre\":\"Business\"},\n",
    " {\"title\":\"The Power of Full Engagement\",\"author\":\"Jim Loehr\",\"genre\":\"Tony Schwartz\"},\n",
    " {\"title\":\"Starting Strength: Basic Barbell Training\",\"author\":\"Mark Rippetoe\",\"genre\":\"Fitness\"},\n",
    " {\"title\":\"You Are Your Own Gym: The Bible of Bodyweight Exercises\",\"author\":\"Mark Lauren\",\"genre\":\"Fitness\"},\n",
    " {\"title\":\"Strength Training Anatomy\",\"author\":\"Frederic Delavier\",\"genre\":\"Fitness\"},\n",
    " {\"title\":\"Sapiens: A Brief History of Humankind\",\"author\":\"Yuval Noah Harari\",\"genre\":\"History\"},\n",
    " {\"title\":\"Guns\",\"author\":\"Germs\",\"genre\":\"and Steel: The Fates of Human Societies\"},\n",
    " {\"title\":\"Manual for Living\",\"author\":\"Epictetus\",\"genre\":\"Philosophy\"},\n",
    " {\"title\":\"Meditations\",\"author\":\"Marcus Aurelius\",\"genre\":\"Philosophy\"},\n",
    " {\"title\":\"The Republic\",\"author\":\"Plato\",\"genre\":\"Philosophy\"},\n",
    " {\"title\":\"Thinking\",\"author\":\"Fast and Slow\",\"genre\":\"Daniel Kahneman\"},\n",
    " {\"title\":\"The Mysteries of Human Behavior\",\"author\":\"Mark Leary\",\"genre\":\"Psychology\"},\n",
    " {\"title\":\"The Power of Habit: Why We Do What We Do in Life and Business\",\"author\":\"Charles Duhigg\",\"genre\":\"Psychology\"},{\"title\":\"A Brief History of Time\",\"author\":\"Stephen Hawking\",\"genre\":\"Science\"},\n",
    " {\"title\":\"The Emperor of All Maladies: A Biography of Cancer\",\"author\":\"Siddhartha Mukherjee\",\"genre\":\"Science\"},\n",
    " {\"title\":\"Better: A Surgeon’s Notes on Performance\",\"author\":\"Atul Gawande\",\"genre\":\"Science\"},\n",
    " {\"title\":\"Breakthrough Advertising\",\"author\":\"Eugene Schwartz\",\"genre\":\"Writing\"},\n",
    " {\"title\":\"The Writer’s Journey: Mythic Structure for Writers\",\"author\":\"Christopher Vogler\",\"genre\":\"Writing\"},\n",
    " {\"title\":\"Bird by Bird\",\"author\":\"Anne Lamott\",\"genre\":\"Writing\"}\n",
    "]\n",
    "\n",
    "# Loop through the list and print information about each book\n",
    "for book in books:\n",
    "    print(\"Title:\", book[\"title\"])\n",
    "    print(\"Author:\", book[\"author\"])\n",
    "    print(\"Genre:\", book[\"genre\"])\n",
    "    print()\n",
    "    \n",
    "# Prompt the user to enter a genre\n",
    "user_genre = input(\"Enter a genre: \")\n",
    "\n",
    "# Loop through the list and print titles of books in the entered genre\n",
    "print(f\"Books in the {user_genre} genre:\")\n",
    "for book in books:\n",
    "    if book[\"genre\"] == user_genre:\n",
    "        print(book[\"title\"])\n",
    "    \n",
    "    \n",
    "print('genre not available in this list')\n"
   ]
  },
  {
   "cell_type": "code",
   "execution_count": null,
   "id": "a2687f01",
   "metadata": {},
   "outputs": [],
   "source": []
  },
  {
   "cell_type": "code",
   "execution_count": null,
   "id": "b046bdbf",
   "metadata": {},
   "outputs": [],
   "source": []
  },
  {
   "cell_type": "code",
   "execution_count": null,
   "id": "3d236610",
   "metadata": {},
   "outputs": [],
   "source": []
  },
  {
   "cell_type": "code",
   "execution_count": null,
   "id": "c48c4f6e",
   "metadata": {},
   "outputs": [],
   "source": []
  }
 ],
 "metadata": {
  "kernelspec": {
   "display_name": "Python 3 (ipykernel)",
   "language": "python",
   "name": "python3"
  },
  "language_info": {
   "codemirror_mode": {
    "name": "ipython",
    "version": 3
   },
   "file_extension": ".py",
   "mimetype": "text/x-python",
   "name": "python",
   "nbconvert_exporter": "python",
   "pygments_lexer": "ipython3",
   "version": "3.11.5"
  }
 },
 "nbformat": 4,
 "nbformat_minor": 5
}
